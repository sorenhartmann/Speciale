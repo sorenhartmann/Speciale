{
 "cells": [
  {
   "cell_type": "code",
   "execution_count": null,
   "metadata": {},
   "outputs": [],
   "source": [
    "from src.experiments.common import Experiment, Run, get_run_from_path\n",
    "from pathlib import Path\n",
    "import matplotlib.pyplot as plt\n",
    "import plotly.express as px\n",
    "import pandas as pd\n",
    "import seaborn as sns\n",
    "experiment = Experiment(\"sghmc_gradients\")"
   ]
  },
  {
   "cell_type": "code",
   "execution_count": null,
   "metadata": {},
   "outputs": [],
   "source": [
    "run = get_run_from_path(Path(\"../experiment_results/sghmc_gradients/2021-10-18/10-55-19\").resolve())"
   ]
  },
  {
   "cell_type": "code",
   "execution_count": null,
   "metadata": {},
   "outputs": [],
   "source": []
  },
  {
   "cell_type": "code",
   "execution_count": null,
   "metadata": {},
   "outputs": [],
   "source": [
    "variance_estimates = run.runs[5].load_result(\"variance_estimates\")\n",
    "global_steps = run.runs[5].load_result(\"global_steps\")"
   ]
  },
  {
   "cell_type": "code",
   "execution_count": null,
   "metadata": {},
   "outputs": [],
   "source": [
    "import torch\n",
    "def subsample(tensor, n, dim=0, seed=123):\n",
    "    with torch.random.fork_rng():\n",
    "        torch.manual_seed(seed)\n",
    "        index = torch.randperm(tensor.shape[dim])[:n]\n",
    "    return tensor.index_select(dim, index), index"
   ]
  },
  {
   "cell_type": "code",
   "execution_count": null,
   "metadata": {},
   "outputs": [],
   "source": [
    "n_steps = 100\n",
    "start = (len(global_steps) - n_steps) // 2\n",
    "stop = len(global_steps) - start\n",
    "slice_ = slice(start, stop)\n",
    "step = global_steps[slice_]"
   ]
  },
  {
   "cell_type": "code",
   "execution_count": null,
   "metadata": {},
   "outputs": [],
   "source": [
    "variance_inter_batch = variance_estimates[\"variance_inter_batch\"][slice_]\n",
    "variance_estimated = variance_estimates[\"variance_estimated\"][slice_]\n",
    "\n",
    "variance_inter_batch, sample_idx = subsample(variance_inter_batch, 500, 1)\n",
    "variance_estimated = variance_estimated[:, sample_idx]\n"
   ]
  },
  {
   "cell_type": "code",
   "execution_count": null,
   "metadata": {},
   "outputs": [],
   "source": [
    "is_zero = variance_estimates[\"variance_estimated\"].isclose(torch.tensor(0.0)).all(0)\n",
    "is_zero |= variance_estimates[\"variance_inter_batch\"].isclose(torch.tensor(0.0)).all(0)\n",
    "\n",
    "non_zero_index = (~is_zero).nonzero().flatten()\n",
    "plot_idx = non_zero_index[torch.randperm(len(non_zero_index))[:9]]\n",
    "\n",
    "plot_data = pd.concat(\n",
    "    [\n",
    "        pd.DataFrame(\n",
    "            {\n",
    "                \"Interbatch variance\": variance_estimates[\"variance_inter_batch\"][\n",
    "                    :, idx\n",
    "                ],\n",
    "                \"Estimated variance\": variance_estimates[\"variance_estimated\"][:, idx],\n",
    "            },\n",
    "            index=pd.MultiIndex.from_product(\n",
    "                [[idx.item()], global_steps], names=(\"index\", \"step\")\n",
    "            ),\n",
    "        )\n",
    "        for idx in plot_idx\n",
    "    ]\n",
    ").assign(step_mod_100=lambda x: x.index.get_level_values(\"step\") % 100)\n"
   ]
  },
  {
   "cell_type": "code",
   "execution_count": null,
   "metadata": {},
   "outputs": [],
   "source": [
    "pd.Series(plot_idx).map(get_data)"
   ]
  },
  {
   "cell_type": "code",
   "execution_count": null,
   "metadata": {},
   "outputs": [],
   "source": [
    "def get_data(idx):\n",
    "\n",
    "    return pd.DataFrame(\n",
    "        {\n",
    "            \"Inter batch variance\": variance_estimates[\"variance_inter_batch\"][:, idx],\n",
    "            \"Estimated variance\": variance_estimates[\"variance_estimated\"][:, idx],\n",
    "        },\n",
    "        index=pd.MultiIndex.from_product(\n",
    "            [[idx.item()], global_steps], names=(\"index\", \"step\")\n",
    "        ),\n",
    "    )\n",
    "\n",
    "\n",
    "fg = (\n",
    "    pd.concat(map(get_data, plot_idx))\n",
    "    .assign(step_mod_100=lambda x: x.index.get_level_values(\"step\") % 100)\n",
    "    .reset_index()\n",
    "    .sample(frac=1.)\n",
    "    .pipe(\n",
    "        (sns.relplot, \"data\"),\n",
    "        x=\"Inter batch variance\",\n",
    "        y=\"Estimated variance\",\n",
    "        col=\"index\",\n",
    "        col_wrap=3,\n",
    "        hue=\"step_mod_100\",\n",
    "        facet_kws={\"sharey\": False, \"sharex\": False},\n",
    "    )\n",
    ")\n",
    "\n",
    "fg.set(xscale=\"log\")\n",
    "fg.set(yscale=\"log\")\n",
    "for ax in fg.axes.flatten():\n",
    "    ax.axline((0, 0), (1, 1), color=\"red\")"
   ]
  },
  {
   "cell_type": "code",
   "execution_count": null,
   "metadata": {},
   "outputs": [],
   "source": []
  },
  {
   "cell_type": "code",
   "execution_count": null,
   "metadata": {},
   "outputs": [],
   "source": [
    "(\n",
    "    plot_data.assign(\n",
    "        rel_diff=lambda x: (\n",
    "            (x[\"Interbatch variance\"] - x[\"Estimated variance\"])\n",
    "            / x[\"Interbatch variance\"]\n",
    "        ).abs()\n",
    "    )\n",
    "    .reset_index(\"index\")\n",
    "    .groupby([\"step_mod_100\", \"index\"])\n",
    "    .mean()\n",
    "    .pipe((sns.relplot, \"data\"), x=\"step_mod_100\", y=\"rel_diff\")\n",
    ")\n",
    "plt.yscale(\"log\")\n"
   ]
  },
  {
   "cell_type": "code",
   "execution_count": null,
   "metadata": {},
   "outputs": [],
   "source": []
  },
  {
   "cell_type": "code",
   "execution_count": null,
   "metadata": {},
   "outputs": [],
   "source": [
    "plot_data = (\n",
    "    pd.merge(\n",
    "        pd.DataFrame(variance_estimated.numpy(), index=step)\n",
    "        .reset_index()\n",
    "        .melt(id_vars=\"index\", value_name=\"variance_estimated\"),\n",
    "        pd.DataFrame(variance_inter_batch.numpy(), index=step)\n",
    "        .reset_index()\n",
    "        .melt(id_vars=\"index\", value_name=\"variance_inter_batch\"),\n",
    "    )\n",
    "    .assign(step_mod_100=lambda x: x[\"index\"] % 100)\n",
    "    .loc[lambda x: (x.variance_estimated > 1e-8) & (x.variance_inter_batch > 1e-8)]\n",
    ")\n"
   ]
  },
  {
   "cell_type": "code",
   "execution_count": null,
   "metadata": {},
   "outputs": [],
   "source": [
    "plot_data"
   ]
  },
  {
   "cell_type": "code",
   "execution_count": null,
   "metadata": {},
   "outputs": [],
   "source": [
    "import numpy as np\n",
    "import matplotlib.ticker as mticker\n",
    "sns.set(style = \"whitegrid\")\n",
    "\n",
    "fig = plt.figure(figsize=(10,8))\n",
    "ax = plt.subplot(projection=\"3d\")\n",
    "x, y, z, c = plot_data[[\"index\", \"variance_inter_batch\", \"variance_estimated\", \"step_mod_100\"]].to_numpy().T\n",
    "def log_tick_formatter(val, pos=None):\n",
    "    return f\"10^{int(val):d}\"\n",
    "    \n",
    "sc = ax.scatter(x, np.log10(y), np.log10(z), c=c)\n",
    "ax.yaxis.set_major_formatter(mticker.FuncFormatter(log_tick_formatter))\n",
    "ax.zaxis.set_major_formatter(mticker.FuncFormatter(log_tick_formatter))\n",
    "ax.view_init(20, -30)\n",
    "ax.set_xlabel(\"Step\")\n",
    "ax.set_ylabel(\"Estimated variance\")\n",
    "ax.set_zlabel(\"Interbatch variance\")\n",
    "plt.colorbar(sc)\n",
    "plt.show()\n"
   ]
  },
  {
   "cell_type": "code",
   "execution_count": null,
   "metadata": {},
   "outputs": [],
   "source": []
  }
 ],
 "metadata": {
  "interpreter": {
   "hash": "3ce311d752f7559aeab697e045d55b95fb71177de97c9fd9eefeb88845310a84"
  },
  "kernelspec": {
   "display_name": "Python 3.9.7 64-bit ('.venv': venv)",
   "name": "python3"
  },
  "language_info": {
   "codemirror_mode": {
    "name": "ipython",
    "version": 3
   },
   "file_extension": ".py",
   "mimetype": "text/x-python",
   "name": "python",
   "nbconvert_exporter": "python",
   "pygments_lexer": "ipython3",
   "version": "3.9.7"
  },
  "orig_nbformat": 4
 },
 "nbformat": 4,
 "nbformat_minor": 2
}
