{
 "cells": [
  {
   "cell_type": "code",
   "execution_count": null,
   "metadata": {},
   "outputs": [],
   "source": [
    "%load_ext autoreload\n",
    "%autoreload 2\n",
    "\n",
    "from src.experiments.common import Experiment\n",
    "from src.visualization.grad_variance_estimates import *\n",
    "from pathlib import Path\n",
    "import matplotlib.pyplot as plt\n",
    "import plotly.express as px\n",
    "import pandas as pd\n",
    "import seaborn as sns\n",
    "experiment = Experiment(\"sghmc_gradients\")"
   ]
  },
  {
   "cell_type": "code",
   "execution_count": null,
   "metadata": {},
   "outputs": [],
   "source": [
    "multirun = experiment.latest_run()\n",
    "run = multirun.runs[2]"
   ]
  },
  {
   "cell_type": "code",
   "execution_count": null,
   "metadata": {},
   "outputs": [],
   "source": [
    "variance_inter_batch = load_estimates(run, \"variance_inter_batch\")\n",
    "variance_estimated = load_estimates(run, \"variance_estimated\")"
   ]
  },
  {
   "cell_type": "code",
   "execution_count": null,
   "metadata": {},
   "outputs": [],
   "source": [
    "# fmt: off\n",
    "data = (\n",
    "    pd.concat([variance_inter_batch, variance_estimated], axis=1)\n",
    "    .unstack(\"parameter_index\")\n",
    ")\n",
    "is_zero = (\n",
    "    np.isclose(data[\"variance_inter_batch\"], 0).all(0) \n",
    "    |  np.isclose(data[\"variance_inter_batch\"], 0).all(0)\n",
    ")\n",
    "# fmt: on\n",
    "no_zero_columns = (\n",
    "    data.columns.get_level_values(\"parameter_index\").to_series().unique()[~is_zero]\n",
    ")\n",
    "sampled_cols = pd.Series(no_zero_columns).sample(9, random_state=123)"
   ]
  },
  {
   "cell_type": "code",
   "execution_count": null,
   "metadata": {},
   "outputs": [],
   "source": [
    "sampled_data = (\n",
    "    data.reorder_levels((1, 0), axis=1)\n",
    "    .loc[:, sampled_cols]\n",
    "    .stack(level=\"parameter_index\")\n",
    "    .reset_index()\n",
    "    .assign(step_mod_110=lambda x: x.step % 110)\n",
    "    .sample(frac=1.0)\n",
    ")\n"
   ]
  },
  {
   "cell_type": "code",
   "execution_count": null,
   "metadata": {},
   "outputs": [],
   "source": [
    "run.config.variance_estimator"
   ]
  },
  {
   "cell_type": "code",
   "execution_count": null,
   "metadata": {},
   "outputs": [],
   "source": [
    "fg = sns.relplot(\n",
    "    data=sampled_data,\n",
    "    x=\"variance_inter_batch\",\n",
    "    y=\"variance_estimated\",\n",
    "    col=\"parameter_index\",\n",
    "    col_wrap=3,\n",
    "    hue=\"step_mod_110\",\n",
    "    facet_kws={\"sharey\": False, \"sharex\": False},\n",
    ")\n",
    "fg.set(xscale=\"log\")\n",
    "fg.set(yscale=\"log\")\n",
    "\n",
    "for ax in fg.axes.flatten():\n",
    "    ax.axline((0, 0), (1, 1), color=\"red\")"
   ]
  },
  {
   "cell_type": "code",
   "execution_count": null,
   "metadata": {},
   "outputs": [],
   "source": []
  }
 ],
 "metadata": {
  "interpreter": {
   "hash": "3ce311d752f7559aeab697e045d55b95fb71177de97c9fd9eefeb88845310a84"
  },
  "kernelspec": {
   "display_name": "Python 3.9.7 64-bit ('.venv': venv)",
   "name": "python3"
  },
  "language_info": {
   "codemirror_mode": {
    "name": "ipython",
    "version": 3
   },
   "file_extension": ".py",
   "mimetype": "text/x-python",
   "name": "python",
   "nbconvert_exporter": "python",
   "pygments_lexer": "ipython3",
   "version": "3.9.7"
  },
  "orig_nbformat": 4
 },
 "nbformat": 4,
 "nbformat_minor": 2
}
