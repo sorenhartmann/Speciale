{
 "cells": [
  {
   "cell_type": "code",
   "execution_count": null,
   "metadata": {},
   "outputs": [],
   "source": [
    "%load_ext autoreload\n",
    "%autoreload 2\n",
    "\n",
    "from src.utils import EXPERIMENT_PATH, Run\n",
    "from src.analysis.simulated import (\n",
    "    get_exact_posterior, \n",
    "    plot_sampled_joint_bivariate,\n",
    "    plot_sampled_distributions_pairs, \n",
    "    )\n",
    "from src.analysis.sample_distribution import load_samples\n",
    "from src.analysis.utils import get_variance_estimator\n",
    "from src.analysis.gradient_variance_estimators import get_variance_estimates\n",
    "from src.analysis.colors  import get_colors, get_color\n",
    "from pathlib import Path\n",
    "import matplotlib.pyplot as plt\n",
    "import plotly.express as px\n",
    "import pandas as pd\n",
    "from hydra.utils import instantiate\n",
    "import seaborn as sns\n"
   ]
  },
  {
   "cell_type": "code",
   "execution_count": null,
   "metadata": {},
   "outputs": [],
   "source": [
    "run_dirs = (EXPERIMENT_PATH / \"sghmc_gradients\"/\"2021-11-29\"/\"09-07-46\").glob(\"[0-9]\")\n",
    "runs = [Run(x) for x in  run_dirs]\n",
    "\n",
    "def eval_poly(x, coeffs):\n",
    "    return coeffs[0] + sum(c*x**i for i, c in enumerate(coeffs[1:], start=1))\n",
    "\n",
    "dataset = instantiate(runs[0].cfg.data.dataset)\n",
    "X, Y = dataset[:]"
   ]
  },
  {
   "cell_type": "code",
   "execution_count": null,
   "metadata": {},
   "outputs": [],
   "source": [
    "gradient_data = pd.concat(\n",
    "    get_variance_estimates(run._dir / \"variance_estimates.pt\")\n",
    "    .assign(estimator = get_variance_estimator(run))\n",
    "    .set_index(\"estimator\", append=True)\n",
    "    .reorder_levels([\"estimator\", \"step\", \"name\"])\n",
    "    .sort_index()\n",
    "    for run in runs\n",
    ")\n"
   ]
  },
  {
   "cell_type": "code",
   "execution_count": null,
   "metadata": {},
   "outputs": [],
   "source": [
    "rel_errs = (\n",
    "    gradient_data.stack(\"parameter\")\n",
    "    .unstack(\"name\")\n",
    "    .assign(\n",
    "        rel_err=lambda x: (x.estimated_variance - x.observed_variance).abs()\n",
    "        / x.observed_variance\n",
    "    )\n",
    "    .rel_err.groupby([\"estimator\", \"parameter\"])\n",
    "    .mean()\n",
    ")\n",
    "rel_errs.unstack()"
   ]
  },
  {
   "cell_type": "code",
   "execution_count": null,
   "metadata": {},
   "outputs": [],
   "source": [
    "from src.analysis.utils import add_column_level_, embolden_, format_as_percent\n",
    "(\n",
    "    rel_errs\n",
    "    .apply(format_as_percent)\n",
    "    .unstack(\"parameter\")\n",
    "    .rename(columns=lambda x: f\"$a_{x}$\")\n",
    "    .rename_axis(index={\"estimator\": \"Estimator\"}, columns={\"parameter\": \"Parameter\"})\n",
    "    .pipe(embolden_, \"ExpWeightedEstimator\")\n",
    "    .pipe(add_column_level_, \"Average relative error\")\n",
    "    .to_latex(\n",
    "        \"../thesis/Tables/simultated_variance_estimations.tex\",\n",
    "        escape=False,\n",
    "        multicolumn_format=\"c\",\n",
    "        column_format=\"lcccc\"\n",
    "    )\n",
    ")"
   ]
  },
  {
   "cell_type": "code",
   "execution_count": null,
   "metadata": {},
   "outputs": [],
   "source": []
  },
  {
   "cell_type": "code",
   "execution_count": null,
   "metadata": {},
   "outputs": [],
   "source": [
    "fg: sns.FacetGrid = (\n",
    "    gradient_data.loc[\n",
    "        lambda x: x.index.get_level_values(\"estimator\") != \"ConstantEstimator\"\n",
    "    ]\n",
    "    .unstack(level=\"name\")\n",
    "    .stack(\"parameter\")\n",
    "    .reset_index()\n",
    "    .pipe(\n",
    "        (sns.relplot, \"data\"),\n",
    "        x=\"observed_variance\",\n",
    "        y=\"estimated_variance\",\n",
    "        hue=\"parameter\",\n",
    "        col=\"estimator\",\n",
    "        facet_kws={\n",
    "            \"sharex\": False,\n",
    "            \"sharey\": False,\n",
    "        },\n",
    "        palette=\"crest\",\n",
    "        rasterized=True,\n",
    "        marker=\".\",\n",
    "        s=12,\n",
    "        height=2.5,\n",
    "        edgecolors=None,\n",
    "        aspect=0.8,\n",
    "    )\n",
    ")\n",
    "\n",
    "\n",
    "for ax in fg.axes.flatten():\n",
    "    ax.axline((1, 1), slope=1, color=\"red\", linestyle=\"--\")\n",
    "    new_title = ax.title.get_text().split(\" = \")[-1]\n",
    "    ax.set_title(new_title)\n",
    "fg.set(\n",
    "    xlim=[1, 1e5],\n",
    "    ylim=[1, 1e5],\n",
    "    yscale=\"log\",\n",
    "    xscale=\"log\",\n",
    "    xlabel=\"Observed variance\",\n",
    "    ylabel=\"Estimated variance\",\n",
    ")\n",
    "fg.tight_layout()\n",
    "plt.savefig(f\"../thesis/Figures/simulated_sghmc_gradient_variance_estimations.pdf\")\n"
   ]
  },
  {
   "cell_type": "markdown",
   "metadata": {},
   "source": [
    "# Plotting resulting distribution"
   ]
  },
  {
   "cell_type": "code",
   "execution_count": null,
   "metadata": {},
   "outputs": [],
   "source": [
    "posterior = get_exact_posterior(X, Y)\n",
    "sample_data = pd.concat(\n",
    "    load_samples(r)\n",
    "    .reset_index(level=[\"sampler\", \"batch_size\"], drop=True)\n",
    "    .assign(estimator = get_variance_estimator(r))\n",
    "    .set_index(\"estimator\", append=True)\n",
    "    .reorder_levels([\"estimator\", \"sample\"])\n",
    "    for r in runs\n",
    "    if \"sampler\" in r.cfg[\"inference\"]\n",
    ")"
   ]
  },
  {
   "cell_type": "code",
   "execution_count": null,
   "metadata": {},
   "outputs": [],
   "source": [
    "for run in runs:\n",
    "\n",
    "    if \"Constant\" in get_variance_estimator(run):\n",
    "        continue\n",
    "\n",
    "    var_est = get_variance_estimator(run)\n",
    "    subset = sample_data.loc[var_est]\n",
    "    color = get_color(run)\n",
    "    kwargs = {\"exact_posterior\": posterior, \"sample_data\": subset, \"color\": color}\n",
    "    plot_sampled_distributions_pairs(**kwargs)\n",
    "    plt.savefig(f\"../thesis/Figures/simulated_var_est_pairs_{var_est}.pdf\")\n",
    "    plot_sampled_joint_bivariate(i=1, j=3, xlims=(-2.5, 1.0), ylims=(0.1, 0.5), **kwargs)\n",
    "    plt.savefig(f\"../thesis/Figures/simulated_var_est_joint_{var_est}.pdf\")\n"
   ]
  }
 ],
 "metadata": {
  "interpreter": {
   "hash": "3ce311d752f7559aeab697e045d55b95fb71177de97c9fd9eefeb88845310a84"
  },
  "kernelspec": {
   "display_name": "Python 3.9.7 64-bit ('.venv': venv)",
   "name": "python3"
  },
  "language_info": {
   "codemirror_mode": {
    "name": "ipython",
    "version": 3
   },
   "file_extension": ".py",
   "mimetype": "text/x-python",
   "name": "python",
   "nbconvert_exporter": "python",
   "pygments_lexer": "ipython3",
   "version": "3.9.7"
  }
 },
 "nbformat": 4,
 "nbformat_minor": 2
}
