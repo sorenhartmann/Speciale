{
 "cells": [
  {
   "cell_type": "code",
   "execution_count": null,
   "metadata": {},
   "outputs": [],
   "source": [
    "from pathlib import Path\n",
    "import pandas as pd\n",
    "import seaborn as sns\n",
    "from optuna import Study\n",
    "from src.utils import Run, Sweep, set_directory, INFERENCE_LABELS, EXPERIMENT_PATH\n",
    "from hydra.utils import instantiate\n",
    "import torch\n",
    "from tqdm import tqdm\n",
    "from src.models.base import ErrorRate"
   ]
  },
  {
   "cell_type": "code",
   "execution_count": null,
   "metadata": {},
   "outputs": [],
   "source": [
    "dir_ = (EXPERIMENT_PATH / \"cifar10_small\" / \"2021-12-22\" / \"13-59-55\")\n",
    "runs =  [Run(p) for p in dir_.glob(\"[012]\")]"
   ]
  },
  {
   "cell_type": "code",
   "execution_count": null,
   "metadata": {},
   "outputs": [],
   "source": [
    "dm = instantiate(runs[0].cfg.data)\n",
    "dm.setup(\"test\")\n",
    "\n",
    "inference = instantiate(runs[0].cfg.inference)\n",
    "ckpt = next(iter((runs[0].dir / \"checkpoints\").glob(\"epoch*.ckpt\")))\n",
    "inference.load_state_dict(torch.load(ckpt, map_location=\"cpu\")[\"state_dict\"])"
   ]
  },
  {
   "cell_type": "code",
   "execution_count": null,
   "metadata": {},
   "outputs": [],
   "source": [
    "inference.model"
   ]
  },
  {
   "cell_type": "code",
   "execution_count": null,
   "metadata": {},
   "outputs": [],
   "source": [
    "def get_dropout_ensemble(inference, input, n=10):\n",
    "\n",
    "    inference.model.train()\n",
    "    output = 0\n",
    "    with torch.no_grad():\n",
    "        for _ in range(n):\n",
    "            output += inference.model(input).softmax(-1)\n",
    "        output /= n\n",
    "    return output\n",
    "        \n",
    "err = ErrorRate()\n",
    "\n",
    "for x, y in tqdm(dm.test_dataloader()):\n",
    "    pred = get_dropout_ensemble(inference, x)\n",
    "    err.update(pred, y)\n",
    "\n",
    "    pass\n",
    "\n",
    "err.compute()"
   ]
  },
  {
   "cell_type": "code",
   "execution_count": null,
   "metadata": {},
   "outputs": [],
   "source": [
    "err.update()"
   ]
  },
  {
   "cell_type": "code",
   "execution_count": null,
   "metadata": {},
   "outputs": [],
   "source": []
  },
  {
   "cell_type": "code",
   "execution_count": null,
   "metadata": {},
   "outputs": [],
   "source": []
  }
 ],
 "metadata": {
  "interpreter": {
   "hash": "3ce311d752f7559aeab697e045d55b95fb71177de97c9fd9eefeb88845310a84"
  },
  "kernelspec": {
   "display_name": "Python 3.9.7 64-bit ('.venv': venv)",
   "language": "python",
   "name": "python3"
  },
  "language_info": {
   "codemirror_mode": {
    "name": "ipython",
    "version": 3
   },
   "file_extension": ".py",
   "mimetype": "text/x-python",
   "name": "python",
   "nbconvert_exporter": "python",
   "pygments_lexer": "ipython3",
   "version": "3.9.7"
  }
 },
 "nbformat": 4,
 "nbformat_minor": 2
}
