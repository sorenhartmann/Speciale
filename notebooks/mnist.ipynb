{
 "cells": [
  {
   "cell_type": "code",
   "execution_count": null,
   "metadata": {},
   "outputs": [],
   "source": [
    "%load_ext autoreload\n",
    "%autoreload 2\n",
    "\n",
    "import pandas as pd\n",
    "import polars as pls\n",
    "from src.experiments.common import set_directory\n"
   ]
  },
  {
   "cell_type": "code",
   "execution_count": null,
   "metadata": {},
   "outputs": [],
   "source": [
    "from optuna import Study\n",
    "from pathlib import Path\n",
    "from datetime import datetime\n",
    "import seaborn as sns\n",
    "\n",
    "\n",
    "studies = {}\n",
    "with set_directory(\"..\"):\n",
    "    optuna_storages = list(Path(\"optuna_storages/\").glob(\"mnist*\"))\n",
    "    for storage in optuna_storages:\n",
    "        studies[storage.stem] = Study(storage.stem, storage=f\"sqlite:///{storage}\")\n"
   ]
  },
  {
   "cell_type": "code",
   "execution_count": null,
   "metadata": {},
   "outputs": [],
   "source": [
    "from functools import cache\n",
    "from src.experiments.common import EXPERIMENT_PATH"
   ]
  },
  {
   "cell_type": "code",
   "execution_count": null,
   "metadata": {},
   "outputs": [],
   "source": [
    "# @cache\n",
    "# def get_tb_statistics(path: Path, tag=\"err/val\"):\n",
    "#     accumulator = EventAccumulator(str(path))\n",
    "#     accumulator.Reload()\n",
    "#     tag = \"err/val\"\n",
    "#     index = [x.step for x in accumulator.Scalars(tag)]\n",
    "#     values = [x.value for x in accumulator.Scalars(tag)]\n",
    "#     statistics = pd.Series(values, name=tag, index=pd.Index(index, name=\"step\"))\n",
    "#     return statistics\n"
   ]
  },
  {
   "cell_type": "code",
   "execution_count": null,
   "metadata": {},
   "outputs": [],
   "source": [
    "from dataclasses import dataclass\n",
    "\n",
    "\n",
    "@dataclass\n",
    "class Sweep:\n",
    "    study: Study\n",
    "\n",
    "    def summary(self) -> pd.DataFrame:\n",
    "\n",
    "        return pd.DataFrame.from_records(\n",
    "            (\n",
    "                {\n",
    "                    \"trial\": trial.number,\n",
    "                    \"datetime_start\": trial.datetime_start,\n",
    "                    \"err/val\": trial.value,\n",
    "                    **trial.params,\n",
    "                }\n",
    "                for trial in self.study.trials\n",
    "            ),\n",
    "            index=\"trial\",\n",
    "        ).sort_values(\"err/val\")\n",
    "\n",
    "    def loss(self) -> pd.DataFrame:\n",
    "        return pd.concat(\n",
    "            pd.DataFrame({\"err/val\": trial.intermediate_values.values()})\n",
    "            .rename_axis(index=\"step\")\n",
    "            .assign(trial=trial.number)\n",
    "            .set_index(\"trial\", append=True)\n",
    "            for trial in self.study.trials\n",
    "        )\n"
   ]
  },
  {
   "cell_type": "code",
   "execution_count": null,
   "metadata": {},
   "outputs": [],
   "source": [
    "combined_loss_data = (\n",
    "    pd.concat(\n",
    "        Sweep(study).loss().assign(study=name).set_index(\"study\", append=True)\n",
    "        for name, study in studies.items()\n",
    "    )\n",
    "    .reorder_levels([\"study\", \"trial\", \"step\"])\n",
    ")\n",
    "combined_summaries_data = (\n",
    "    pd.concat(\n",
    "        Sweep(study).summary().assign(study=name).set_index(\"study\", append=True)\n",
    "        for name, study in studies.items()\n",
    "    )\n",
    "    .reorder_levels([\"study\", \"trial\"])\n",
    ")   "
   ]
  },
  {
   "cell_type": "code",
   "execution_count": null,
   "metadata": {},
   "outputs": [],
   "source": [
    "best_runs = combined_summaries_data[\"err/val\"].groupby(\"study\").idxmin()\n",
    "best_runs.pipe(pd.DataFrame)\n"
   ]
  },
  {
   "cell_type": "code",
   "execution_count": null,
   "metadata": {},
   "outputs": [],
   "source": [
    "t = combined_summaries_data.loc[\"mnist-sghmc-var-est\"].sort_index()"
   ]
  },
  {
   "cell_type": "code",
   "execution_count": null,
   "metadata": {},
   "outputs": [],
   "source": [
    "(\n",
    "    combined_loss_data\n",
    "    .unstack(level=\"step\")\n",
    "    .loc[best_runs]\n",
    "    .stack(level=\"step\")\n",
    "    .reset_index()\n",
    "    .pipe((sns.relplot, \"data\"), x=\"step\", y=\"err/val\", hue=\"study\", kind=\"line\", aspect=1.6)\n",
    "    .set(ylim=(0.01, 0.03))\n",
    "    .savefig(\"../thesis/Figures/mnist-best-runs-val-curves.pdf\")\n",
    ")\n"
   ]
  },
  {
   "cell_type": "code",
   "execution_count": null,
   "metadata": {},
   "outputs": [],
   "source": [
    "import math\n",
    "\n",
    "\n",
    "def rename_cols(x):\n",
    "\n",
    "    if x == \"err/val\":\n",
    "        return \"val. error\"\n",
    "    else:\n",
    "        return f\"\\\\texttt{{{x.split('.')[-1]}}}\".replace(\"_\", \"\\_\")\n",
    "\n",
    "\n",
    "def format_tex(float_number):\n",
    "    exponent = math.floor(math.log10(float_number))\n",
    "    mantissa = float_number / 10 ** exponent\n",
    "    mantissa_format = str(mantissa)[0:4]\n",
    "    return \"${0}\\\\times10^{{{1}}}$\".format(mantissa_format, str(int(exponent)))\n",
    "\n",
    "\n",
    "def to_latex(data: pd.DataFrame):\n",
    "\n",
    "    n_cols = len(data.columns)\n",
    "    return data.to_latex(\n",
    "        f\"../thesis/Tables/{key}-hparams.tex\",\n",
    "        escape=False,\n",
    "        formatters={r\"\\texttt{lr}\": format_tex},\n",
    "        column_format= \"l\" + n_cols*r\"p{2.3cm}\" \n",
    "    )\n",
    "\n",
    "\n",
    "for key, study in studies.items():\n",
    "    (\n",
    "        Sweep(study)\n",
    "        .summary()\n",
    "        .drop(columns=\"datetime_start\")\n",
    "        .head(10)\n",
    "        .rename(columns=rename_cols)\n",
    "        .pipe(to_latex)\n",
    "    )\n"
   ]
  },
  {
   "cell_type": "code",
   "execution_count": null,
   "metadata": {},
   "outputs": [],
   "source": [
    "for key in studies:\n",
    "    print(\n",
    "f\"\"\"\n",
    "\\\\begin{{table}}[htbp]\n",
    "    \\\\centering\n",
    "    \\\\input{{Tables/{key}-hparams}}\n",
    "    \\\\caption{{Top 10 hyperparameters for INFERENCE according to optuna sweep.}}\n",
    "    \\\\label{{tab:{key}-hparams}}\n",
    "\\end{{table}}\n",
    "\"\"\"\n",
    ")"
   ]
  },
  {
   "cell_type": "code",
   "execution_count": null,
   "metadata": {},
   "outputs": [],
   "source": [
    "\n",
    "Sweep(studies[\"mnist-sghmc\"]).summary().drop(columns=\"datetime_start\").head(10)\n"
   ]
  },
  {
   "cell_type": "code",
   "execution_count": null,
   "metadata": {},
   "outputs": [],
   "source": [
    "t = combined_loss_data.loc[\"mnist-sghmc\"].groupby(\"trial\").count()"
   ]
  },
  {
   "cell_type": "code",
   "execution_count": null,
   "metadata": {},
   "outputs": [],
   "source": [
    "a : Study = studies[\"mnist-vi\"]\n",
    "a.best_params"
   ]
  },
  {
   "cell_type": "code",
   "execution_count": null,
   "metadata": {},
   "outputs": [],
   "source": [
    "a : Study= studies[\"mnist-sghmc-var-est\"]\n",
    "a.best_params"
   ]
  },
  {
   "cell_type": "code",
   "execution_count": null,
   "metadata": {},
   "outputs": [],
   "source": [
    "Sweep(studies[\"mnist-sgd-map\"]).loss().pipe((sns.relplot, \"data\"), x=\"step\", hue=\"trial\", y=\"err/val\", kind=\"line\").set(ylim=(0.015,0.04))"
   ]
  },
  {
   "cell_type": "markdown",
   "metadata": {},
   "source": [
    "TODO:\n",
    "- [ ] Test med test set\n",
    "- [ ] Test med test set, vægtet ift val logprob"
   ]
  },
  {
   "cell_type": "markdown",
   "metadata": {},
   "source": [
    "\n"
   ]
  }
 ],
 "metadata": {
  "interpreter": {
   "hash": "3ce311d752f7559aeab697e045d55b95fb71177de97c9fd9eefeb88845310a84"
  },
  "kernelspec": {
   "display_name": "Python 3.9.7 64-bit ('.venv': venv)",
   "name": "python3"
  },
  "language_info": {
   "codemirror_mode": {
    "name": "ipython",
    "version": 3
   },
   "file_extension": ".py",
   "mimetype": "text/x-python",
   "name": "python",
   "nbconvert_exporter": "python",
   "pygments_lexer": "ipython3",
   "version": "3.9.7"
  }
 },
 "nbformat": 4,
 "nbformat_minor": 2
}
