{
 "cells": [
  {
   "cell_type": "code",
   "execution_count": null,
   "metadata": {},
   "outputs": [],
   "source": [
    "import pandas as pd\n",
    "from src.experiments.common import get_run_from_path, EXPERIMENT_PATH\n",
    "from src.experiments.wrangle import get_multirun_statistics\n",
    "from src.visualization.common import setup_altair\n",
    "import altair as alt\n",
    "\n",
    "setup_altair()"
   ]
  },
  {
   "cell_type": "code",
   "execution_count": null,
   "metadata": {},
   "outputs": [],
   "source": [
    "dropout_data = get_multirun_statistics(\n",
    "    multirun=get_run_from_path(\n",
    "        EXPERIMENT_PATH / \"mnist/2021-10-28/16-48-09_sgd_dropout\"\n",
    "    ),\n",
    "    config_values=[\"model.dropout\", \"inference.lr\"],\n",
    ")\n",
    "map_data = get_multirun_statistics(\n",
    "    multirun=get_run_from_path(EXPERIMENT_PATH / \"mnist/2021-10-28/16-49-20-sgd_map\"),\n",
    "    config_values=[\"inference.lr\"],\n",
    ")\n",
    "vi_data = get_multirun_statistics(\n",
    "    multirun=get_run_from_path(EXPERIMENT_PATH / \"mnist/2021-10-28/16-49-59-vi\"),\n",
    "    config_values=[\"inference.lr\", \"inference.kl_weighting_scheme._target_\"],\n",
    ")\n",
    "sghmc_data = get_multirun_statistics(\n",
    "    multirun=get_run_from_path(EXPERIMENT_PATH / \"mnist/2021-10-28/16-50-39-sghmc\"),\n",
    "    config_values=[\"inference.sampler.lr\", \"model.activation_func._target_\"],\n",
    ")\n",
    "sghmc_adam_data = get_multirun_statistics(\n",
    "    multirun=get_run_from_path(\n",
    "        EXPERIMENT_PATH / \"mnist/2021-10-28/16-51-15-sghmc_adam\"\n",
    "    ),\n",
    "    config_values=[\"inference.sampler.lr\", \"model.activation_func._target_\"],\n",
    ")\n",
    "sghmc_interbatch_data = get_multirun_statistics(\n",
    "    multirun=get_run_from_path(\n",
    "        EXPERIMENT_PATH / \"mnist/2021-10-28/16-52-37-sghmc_interbatch\"\n",
    "    ),\n",
    "    config_values=[\"inference.sampler.lr\", \"model.activation_func._target_\"],\n",
    ")\n"
   ]
  },
  {
   "cell_type": "markdown",
   "metadata": {},
   "source": [
    "# Dropout"
   ]
  },
  {
   "cell_type": "code",
   "execution_count": null,
   "metadata": {},
   "outputs": [],
   "source": [
    "# fmt: off\n",
    "(\n",
    "    dropout_data\n",
    "    .reset_index()\n",
    "    .rename(columns=lambda x: x.replace(\".\", \"/\"))\n",
    "    .pipe(alt.Chart)\n",
    "    .mark_line(clip=True)\n",
    "    .encode(\n",
    "        x=alt.X(\"step\"),\n",
    "        y=alt.Y(\"err/val\", scale=alt.Scale(domain=(0, 0.09))),\n",
    "        color=alt.Color(\n",
    "            \"inference/lr:O\", scale=alt.Scale(scheme=\"plasma\"), title=\"Learning Rate\"\n",
    "        ),\n",
    "        column=\"model/dropout\",\n",
    "    \n",
    "    )\n",
    ")\n",
    "# fmt: on\n"
   ]
  },
  {
   "cell_type": "markdown",
   "metadata": {},
   "source": [
    "# SDG - MAP"
   ]
  },
  {
   "cell_type": "code",
   "execution_count": null,
   "metadata": {},
   "outputs": [],
   "source": [
    "# fmt: off\n",
    "(\n",
    "    map_data\n",
    "    .reset_index()\n",
    "    .rename(columns=lambda x: x.replace(\".\", \"/\"))\n",
    "    .pipe(alt.Chart)\n",
    "    .mark_line(clip=True)\n",
    "    .encode(\n",
    "        x=alt.X(\"step\"),\n",
    "        y=alt.Y(\"err/val\", scale=alt.Scale(domain=(0, 0.09))),\n",
    "        color=\"inference/lr:O\" \n",
    "    )\n",
    ")\n",
    "# fmt: on\n"
   ]
  },
  {
   "cell_type": "markdown",
   "metadata": {},
   "source": [
    "# VI"
   ]
  },
  {
   "cell_type": "code",
   "execution_count": null,
   "metadata": {},
   "outputs": [],
   "source": [
    "# fmt: off\n",
    "(\n",
    "    vi_data\n",
    "    .reset_index()\n",
    "    .rename(columns=lambda x: x.replace(\".\", \"/\"))\n",
    "    .pipe(alt.Chart)\n",
    "    .mark_line(clip=True)\n",
    "    .encode(\n",
    "        x=alt.X(\"step\"),\n",
    "        y=alt.Y(\"err/val\", scale=alt.Scale(domain=(0, 1.))),\n",
    "        color=\"inference/lr:O\", \n",
    "        column=\"inference/kl_weighting_scheme/_target_\"\n",
    "    )\n",
    ")\n"
   ]
  },
  {
   "cell_type": "markdown",
   "metadata": {},
   "source": [
    "# SGHMC (beta=0)"
   ]
  },
  {
   "cell_type": "code",
   "execution_count": null,
   "metadata": {},
   "outputs": [],
   "source": [
    "# fmt: off\n",
    "(\n",
    "    sghmc_data\n",
    "    .reset_index()\n",
    "    .rename(columns=lambda x: x.replace(\".\", \"/\"))\n",
    "    .pipe(alt.Chart)\n",
    "    .mark_line(clip=True)\n",
    "    .encode(\n",
    "        x=alt.X(\"step\"),\n",
    "        y=alt.Y(\"err/val\", scale=alt.Scale(domain=(0, 0.1))),\n",
    "        color=\"inference/sampler/lr:N\",\n",
    "        column=\"model/activation_func/_target_:N\"\n",
    "    )\n",
    ").interactive()"
   ]
  },
  {
   "cell_type": "markdown",
   "metadata": {},
   "source": [
    "# SGHMC (beta=adam)"
   ]
  },
  {
   "cell_type": "code",
   "execution_count": null,
   "metadata": {},
   "outputs": [],
   "source": [
    "# fmt: off\n",
    "(\n",
    "    sghmc_adam_data\n",
    "    .reset_index()\n",
    "    .rename(columns=lambda x: x.replace(\".\", \"/\"))\n",
    "    .pipe(alt.Chart)\n",
    "    .mark_line(clip=True)\n",
    "    .encode(\n",
    "        x=alt.X(\"step\"),\n",
    "        y=alt.Y(\"err/val\", scale=alt.Scale(domain=(0, 0.1))),\n",
    "        color=\"inference/sampler/lr:N\",\n",
    "        column=\"model/activation_func/_target_:N\"\n",
    "    )\n",
    ").interactive()"
   ]
  },
  {
   "cell_type": "markdown",
   "metadata": {},
   "source": [
    "# SGHMC Interbatch"
   ]
  },
  {
   "cell_type": "code",
   "execution_count": null,
   "metadata": {},
   "outputs": [],
   "source": [
    "# fmt: off\n",
    "(\n",
    "    sghmc_interbatch_data\n",
    "    .reset_index()\n",
    "    .rename(columns=lambda x: x.replace(\".\", \"/\"))\n",
    "    .pipe(alt.Chart)\n",
    "    .mark_line(clip=True)\n",
    "    .encode(\n",
    "        x=alt.X(\"step\"),\n",
    "        y=alt.Y(\"err/val\", scale=alt.Scale(domain=(0, 0.1))),\n",
    "        color=\"inference/sampler/lr:N\",\n",
    "        column=\"model/activation_func/_target_:N\"\n",
    "    )\n",
    ").interactive()"
   ]
  },
  {
   "cell_type": "markdown",
   "metadata": {},
   "source": [
    "# Compare best models"
   ]
  },
  {
   "cell_type": "code",
   "execution_count": null,
   "metadata": {},
   "outputs": [],
   "source": [
    "combined = pd.concat(\n",
    "    {\n",
    "        \"dropout\": dropout_data,\n",
    "        \"map\": map_data,\n",
    "        \"vi\": vi_data,\n",
    "        \"sghmc\": sghmc_data,\n",
    "        \"sghmc_adam\": sghmc_adam_data,\n",
    "        \"sghmc_interbatch\": sghmc_interbatch_data,\n",
    "    },\n",
    "    names=[\"inference\"],\n",
    ")\n",
    "\n",
    "best_runs = (\n",
    "    combined.groupby([\"inference\", \"id\"])\n",
    "    .apply(lambda x: x[\"err/val\"][-10:].mean())\n",
    "    .groupby(level=\"inference\")\n",
    "    .idxmin()\n",
    "    .apply(lambda x: x[1])\n",
    ")\n"
   ]
  },
  {
   "cell_type": "code",
   "execution_count": null,
   "metadata": {},
   "outputs": [],
   "source": [
    "(\n",
    "    combined\n",
    "    .droplevel(\"inference\")\n",
    "    .loc[best_runs]\n",
    "    .reset_index()\n",
    "    .pipe(alt.Chart)\n",
    "    .mark_line(clip=True)\n",
    "    .encode(\n",
    "        x=\"step\", \n",
    "        y=alt.Y(\"err/val\", scale=alt.Scale(domain=(0,0.09))),\n",
    "        color=\"id\",\n",
    "        tooltip=[\"id\", \"step\", \"err/val\"],\n",
    "    )\n",
    "    .interactive()\n",
    ")"
   ]
  },
  {
   "cell_type": "code",
   "execution_count": null,
   "metadata": {},
   "outputs": [],
   "source": [
    "(combined\n",
    "    .droplevel(\"inference\")\n",
    "    .loc[best_runs]\n",
    "    .reset_index()\n",
    "    )"
   ]
  },
  {
   "cell_type": "code",
   "execution_count": null,
   "metadata": {},
   "outputs": [],
   "source": []
  }
 ],
 "metadata": {
  "interpreter": {
   "hash": "3ce311d752f7559aeab697e045d55b95fb71177de97c9fd9eefeb88845310a84"
  },
  "kernelspec": {
   "display_name": "Python 3.9.7 64-bit ('.venv': venv)",
   "name": "python3"
  },
  "language_info": {
   "codemirror_mode": {
    "name": "ipython",
    "version": 3
   },
   "file_extension": ".py",
   "mimetype": "text/x-python",
   "name": "python",
   "nbconvert_exporter": "python",
   "pygments_lexer": "ipython3",
   "version": "3.9.7"
  }
 },
 "nbformat": 4,
 "nbformat_minor": 2
}
