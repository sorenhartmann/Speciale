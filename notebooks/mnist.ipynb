{
 "cells": [
  {
   "cell_type": "code",
   "execution_count": null,
   "metadata": {},
   "outputs": [],
   "source": [
    "%load_ext autoreload\n",
    "%autoreload 2\n",
    "\n",
    "from pathlib import Path\n",
    "\n",
    "import pandas as pd\n",
    "import seaborn as sns\n",
    "from optuna import Study\n",
    "from src.utils import Run, Sweep, set_directory\n",
    "from src.analysis.colors import get_color, get_colors\n",
    "import matplotlib.pyplot as plt\n",
    "from src.analysis.inference import *"
   ]
  },
  {
   "cell_type": "markdown",
   "metadata": {},
   "source": [
    "# Sweeps"
   ]
  },
  {
   "cell_type": "code",
   "execution_count": null,
   "metadata": {},
   "outputs": [],
   "source": [
    "sweeps = {}\n",
    "with set_directory(\"..\"):\n",
    "    optuna_storages = list(Path(\"optuna_storages/\").glob(\"mnist*\"))\n",
    "    for storage in optuna_storages:\n",
    "        if \"corr\" in storage.stem:\n",
    "            continue\n",
    "        sweeps[storage.stem] = Sweep(Study(storage.stem, storage=f\"sqlite:///{storage}\"))"
   ]
  },
  {
   "cell_type": "code",
   "execution_count": null,
   "metadata": {},
   "outputs": [],
   "source": [
    "sweeps"
   ]
  },
  {
   "cell_type": "code",
   "execution_count": null,
   "metadata": {},
   "outputs": [],
   "source": [
    "combined_loss_data = pd.concat(\n",
    "    sweep.loss().assign(study=name).set_index(\"study\", append=True)\n",
    "    for name, sweep in sweeps.items()\n",
    ").reorder_levels([\"study\", \"trial\", \"step\"])\n",
    "combined_summaries_data = pd.concat(\n",
    "    sweep.summary().assign(study=name).set_index(\"study\", append=True)\n",
    "    for name, sweep in sweeps.items()\n",
    ").reorder_levels([\"study\", \"trial\"])\n"
   ]
  },
  {
   "cell_type": "code",
   "execution_count": null,
   "metadata": {},
   "outputs": [],
   "source": [
    "best_runs = combined_summaries_data[\"err/val\"].groupby(\"study\").idxmin()\n",
    "best_runs.pipe(pd.DataFrame)\n"
   ]
  },
  {
   "cell_type": "code",
   "execution_count": null,
   "metadata": {},
   "outputs": [],
   "source": [
    "(\n",
    "    combined_loss_data.unstack(level=\"step\")\n",
    "    .loc[best_runs]\n",
    "    .stack(level=\"step\")\n",
    "    .reset_index()\n",
    "    .pipe(\n",
    "        (sns.relplot, \"data\"),\n",
    "        x=\"step\",\n",
    "        y=\"err/val\",\n",
    "        hue=\"study\",\n",
    "        kind=\"line\",\n",
    "        aspect=1.6,\n",
    "    )\n",
    "    .set(ylim=(0.01, 0.03))\n",
    "    .savefig(\"../thesis/Figures/mnist-best-runs-val-curves.pdf\")\n",
    ")\n"
   ]
  },
  {
   "cell_type": "code",
   "execution_count": null,
   "metadata": {},
   "outputs": [],
   "source": [
    "import math\n",
    "\n",
    "\n",
    "def rename_cols(x):\n",
    "\n",
    "    if x == \"err/val\":\n",
    "        return \"Val. error\"\n",
    "    else:\n",
    "\n",
    "        return f\"\\\\texttt{{{x.split('.')[-1]}}}\".replace(\"_\", \"\\_\")\n",
    "\n",
    "\n",
    "def format_sctf(float_number):\n",
    "    exponent = math.floor(math.log10(float_number))\n",
    "    mantissa = float_number / 10 ** exponent\n",
    "    mantissa_format = str(mantissa)[0:4]\n",
    "    return \"${0}\\\\times10^{{{1}}}$\".format(mantissa_format, str(int(exponent)))\n",
    "\n",
    "\n",
    "def to_latex(data: pd.DataFrame):\n",
    "\n",
    "    n_cols = len(data.columns)\n",
    "    return data.to_latex(\n",
    "        f\"../thesis/Tables/{key}-hparams.tex\",\n",
    "        escape=False,\n",
    "        formatters={r\"\\texttt{lr}\": format_sctf},\n",
    "        column_format=\"l\" + n_cols * r\"p{2.3cm}\",\n",
    "    )\n",
    "\n",
    "\n",
    "for key, sweep in sweeps.items():\n",
    "    (\n",
    "        sweep\n",
    "        .summary()\n",
    "        .drop(columns=\"datetime_start\")\n",
    "        .head(10)\n",
    "        .rename(columns=rename_cols)\n",
    "        .pipe(to_latex)\n",
    "    )\n"
   ]
  },
  {
   "cell_type": "code",
   "execution_count": null,
   "metadata": {},
   "outputs": [],
   "source": [
    "for key in sweeps:\n",
    "    print(\n",
    "        f\"\"\"\n",
    "\\\\begin{{table}}[htbp]\n",
    "    \\\\centering\n",
    "    \\\\resizebox{{\n",
    "        \\\\ifdim\\\\width>\\\\columnwidth\n",
    "        \\\\columnwidth\n",
    "      \\\\else\n",
    "        \\\\width\n",
    "      \\\\fi\n",
    "    }}{{!}}{{\\\\small\n",
    "    \\\\input{{Tables/{key}-hparams}}\n",
    "    }}\n",
    "    \\\\caption{{Top 10 hyperparameters for INFERENCE according to optuna sweep.}}\n",
    "    \\\\label{{tab:{key}-hparams}}\n",
    "\\end{{table}}\n",
    "\"\"\"\n",
    "    )\n"
   ]
  },
  {
   "cell_type": "markdown",
   "metadata": {},
   "source": [
    "# Test errors\n"
   ]
  },
  {
   "cell_type": "code",
   "execution_count": null,
   "metadata": {},
   "outputs": [],
   "source": [
    "mcmc_dir = Path(\"../experiment_results/mnist/2021-12-20/15-52-53\")\n",
    "mcmc_runs = list(map(Run, mcmc_dir.glob(\"[01]/\")))\n",
    "\n",
    "other_dir = Path(\"../experiment_results/mnist/2021-12-21/07-58-11\")\n",
    "other_runs = list(map(Run, other_dir.glob(\"[012]/\")))\n",
    "\n",
    "all_runs = other_runs + mcmc_runs\n"
   ]
  },
  {
   "cell_type": "code",
   "execution_count": null,
   "metadata": {},
   "outputs": [],
   "source": [
    "(\n",
    "    plot_val_err(all_runs)\n",
    "    .set(ylim=(None, 0.03))\n",
    "    .savefig(\"../thesis/Figures/mnist-final-runs-val.pdf\")\n",
    ")\n",
    "(\n",
    "    get_test_err_table(all_runs).to_latex(\n",
    "        \"../thesis/Tables/mnist-test-err.tex\",\n",
    "        escape=False,\n",
    "        index=False,\n",
    "        column_format=\"lc\",\n",
    "    )\n",
    ")\n",
    "\n"
   ]
  },
  {
   "cell_type": "markdown",
   "metadata": {},
   "source": [
    "## Downsampling MCMC samples\n",
    "\n"
   ]
  },
  {
   "cell_type": "code",
   "execution_count": null,
   "metadata": {},
   "outputs": [],
   "source": [
    "(\n",
    "    plot_mcmc_downsampling(mcmc_runs)\n",
    "    .set(ylim=(None, 0.022))\n",
    "    .savefig(\"../thesis/Figures/mnist-downsampling.pdf\")\n",
    ")\n"
   ]
  },
  {
   "cell_type": "markdown",
   "metadata": {},
   "source": [
    "# Calibration\n"
   ]
  },
  {
   "cell_type": "code",
   "execution_count": null,
   "metadata": {},
   "outputs": [],
   "source": [
    "plot_calibration(all_runs)\n",
    "plt.savefig(\"../thesis/Figures/mnist-calibration.pdf\")\n",
    "\n",
    "get_ece_table(all_runs).to_latex(\n",
    "    \"../thesis/Tables/mnist-ece.tex\", index=False, escape=False, column_format=\"lc\"\n",
    ")\n"
   ]
  },
  {
   "cell_type": "markdown",
   "metadata": {},
   "source": [
    "## Checking SGHMC assumptions"
   ]
  },
  {
   "cell_type": "code",
   "execution_count": null,
   "metadata": {},
   "outputs": [],
   "source": [
    "plot_temperatures(mcmc_runs)\n",
    "plt.savefig(\"../thesis/Figures/mnist-temperatures.pdf\")\n",
    "get_temp_ci_table(mcmc_runs).to_latex(\n",
    "    \"../thesis/Tables/mnist-temperatures.tex\",\n",
    "    escape=False,\n",
    "    index=False,\n",
    "    column_format=\"lc\",\n",
    ")\n"
   ]
  },
  {
   "cell_type": "code",
   "execution_count": null,
   "metadata": {},
   "outputs": [],
   "source": []
  }
 ],
 "metadata": {
  "interpreter": {
   "hash": "3ce311d752f7559aeab697e045d55b95fb71177de97c9fd9eefeb88845310a84"
  },
  "kernelspec": {
   "display_name": "Python 3.9.7 64-bit ('.venv': venv)",
   "name": "python3"
  },
  "language_info": {
   "codemirror_mode": {
    "name": "ipython",
    "version": 3
   },
   "file_extension": ".py",
   "mimetype": "text/x-python",
   "name": "python",
   "nbconvert_exporter": "python",
   "pygments_lexer": "ipython3",
   "version": "3.9.7"
  }
 },
 "nbformat": 4,
 "nbformat_minor": 2
}
