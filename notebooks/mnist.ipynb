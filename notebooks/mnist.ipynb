{
 "cells": [
  {
   "cell_type": "code",
   "execution_count": null,
   "metadata": {},
   "outputs": [],
   "source": [
    "%load_ext autoreload\n",
    "%autoreload 2\n",
    "\n",
    "import pandas as pd\n",
    "from src.experiments.common import get_run_from_path, EXPERIMENT_PATH, set_directory\n",
    "from src.experiments.wrangle import get_multirun_statistics"
   ]
  },
  {
   "cell_type": "code",
   "execution_count": null,
   "metadata": {},
   "outputs": [],
   "source": [
    "from optuna import Study\n",
    "from pathlib import Path\n",
    "from datetime import datetime\n",
    "import seaborn as sns\n",
    "\n",
    "\n",
    "studies = {}\n",
    "with set_directory(\"..\"):\n",
    "    optuna_storages = list(Path(\"optuna_storages/\").glob(\"*\"))\n",
    "    for storage in optuna_storages:\n",
    "        studies[storage.stem] = Study(storage.stem, storage=f\"sqlite:///{storage}\")\n"
   ]
  },
  {
   "cell_type": "code",
   "execution_count": null,
   "metadata": {},
   "outputs": [],
   "source": [
    "from functools import cache\n",
    "from src.experiments.common import EXPERIMENT_PATH\n"
   ]
  },
  {
   "cell_type": "code",
   "execution_count": null,
   "metadata": {},
   "outputs": [],
   "source": [
    "from tensorboard.backend.event_processing.event_accumulator import EventAccumulator\n",
    "\n",
    "# EventAccumulator(str(run.path / \"metrics\"))}\n"
   ]
  },
  {
   "cell_type": "code",
   "execution_count": null,
   "metadata": {},
   "outputs": [],
   "source": []
  },
  {
   "cell_type": "code",
   "execution_count": null,
   "metadata": {},
   "outputs": [],
   "source": [
    "@cache\n",
    "def get_tb_statistics(path: Path, tag=\"err/val\"):\n",
    "    accumulator = EventAccumulator(str(path))\n",
    "    accumulator.Reload()\n",
    "    tag = \"err/val\"\n",
    "    index = [x.step for x in accumulator.Scalars(tag)]\n",
    "    values = [x.value for x in accumulator.Scalars(tag)]\n",
    "    statistics = pd.Series(values, name=tag, index=pd.Index(index, name=\"step\"))\n",
    "    return statistics\n"
   ]
  },
  {
   "cell_type": "code",
   "execution_count": null,
   "metadata": {},
   "outputs": [],
   "source": [
    "from dataclasses import dataclass\n",
    "\n",
    "\n",
    "@dataclass\n",
    "class Sweep:\n",
    "    study: Study\n",
    "\n",
    "    def summary(self) -> pd.DataFrame:\n",
    "\n",
    "        return pd.DataFrame.from_records(\n",
    "            (\n",
    "                {\"trial\": trial.number, \"err/val\": trial.value, **trial.params}\n",
    "                for trial in self.study.trials\n",
    "            ),\n",
    "            index=\"trial\",\n",
    "        ).sort_values(\"err/val\")\n",
    "\n",
    "    def loss(self) -> pd.DataFrame:\n",
    "        return pd.concat(\n",
    "            pd.DataFrame({\"err/val\": trial.intermediate_values.values()})\n",
    "            .rename_axis(index=\"step\")\n",
    "            .assign(trial=trial.number)\n",
    "            .set_index(\"trial\", append=True)\n",
    "            for trial in self.study.trials\n",
    "        )\n"
   ]
  },
  {
   "cell_type": "code",
   "execution_count": null,
   "metadata": {},
   "outputs": [],
   "source": [
    "combined_loss_data = pd.concat(\n",
    "    Sweep(study).loss().assign(study=name).set_index(\"study\", append=True)\n",
    "    for name, study in studies.items()\n",
    ").reorder_levels([\"study\", \"trial\", \"step\"])\n"
   ]
  },
  {
   "cell_type": "code",
   "execution_count": null,
   "metadata": {},
   "outputs": [],
   "source": [
    "best_runs = (\n",
    "    combined_loss_data[\"err/val\"]\n",
    "    .groupby(level=[\"study\", \"trial\"])\n",
    "    .last()\n",
    "    .groupby(\"study\")\n",
    "    .idxmin()\n",
    ")\n",
    "best_runs.pipe(pd.DataFrame)"
   ]
  },
  {
   "cell_type": "code",
   "execution_count": null,
   "metadata": {},
   "outputs": [],
   "source": [
    "(\n",
    "    combined_loss_data\n",
    "    .unstack(level=\"step\")\n",
    "    .loc[best_runs]\n",
    "    .stack(level=\"step\")\n",
    "    .reset_index()\n",
    "    .pipe((sns.relplot, \"data\"), x=\"step\", y=\"err/val\", hue=\"study\", kind=\"line\")\n",
    "    .set(ylim=(0.01, 0.05))\n",
    ")\n"
   ]
  },
  {
   "cell_type": "code",
   "execution_count": null,
   "metadata": {},
   "outputs": [],
   "source": [
    "t = combined_loss_data.loc[\"mnist-sghmc\"].groupby(\"trial\").count()"
   ]
  },
  {
   "cell_type": "code",
   "execution_count": null,
   "metadata": {},
   "outputs": [],
   "source": [
    "a : Study= studies[\"mnist-sghmc\"]\n",
    "a.trials"
   ]
  },
  {
   "cell_type": "code",
   "execution_count": null,
   "metadata": {},
   "outputs": [],
   "source": [
    "a : Study= studies[\"mnist-sghmc-var-est\"]\n",
    "a.best_params"
   ]
  },
  {
   "cell_type": "code",
   "execution_count": null,
   "metadata": {},
   "outputs": [],
   "source": []
  }
 ],
 "metadata": {
  "interpreter": {
   "hash": "3ce311d752f7559aeab697e045d55b95fb71177de97c9fd9eefeb88845310a84"
  },
  "kernelspec": {
   "display_name": "Python 3.9.7 64-bit ('.venv': venv)",
   "name": "python3"
  },
  "language_info": {
   "codemirror_mode": {
    "name": "ipython",
    "version": 3
   },
   "file_extension": ".py",
   "mimetype": "text/x-python",
   "name": "python",
   "nbconvert_exporter": "python",
   "pygments_lexer": "ipython3",
   "version": "3.9.7"
  }
 },
 "nbformat": 4,
 "nbformat_minor": 2
}
