{
 "cells": [
  {
   "cell_type": "code",
   "execution_count": null,
   "metadata": {},
   "outputs": [],
   "source": [
    "%load_ext autoreload\n",
    "%autoreload 2\n",
    "\n",
    "from pathlib import Path\n",
    "\n",
    "import pandas as pd\n",
    "import seaborn as sns\n",
    "from optuna import Study\n",
    "from src.utils import Run, Sweep, set_directory\n"
   ]
  },
  {
   "cell_type": "markdown",
   "metadata": {},
   "source": [
    "# Sweeps"
   ]
  },
  {
   "cell_type": "code",
   "execution_count": null,
   "metadata": {},
   "outputs": [],
   "source": [
    "studies = {}\n",
    "with set_directory(\"..\"):\n",
    "    optuna_storages = list(Path(\"optuna_storages/\").glob(\"mnist*\"))\n",
    "    for storage in optuna_storages:\n",
    "        if \"corr\" in storage.stem:\n",
    "            continue\n",
    "        studies[storage.stem] = Study(storage.stem, storage=f\"sqlite:///{storage}\")\n"
   ]
  },
  {
   "cell_type": "code",
   "execution_count": null,
   "metadata": {},
   "outputs": [],
   "source": [
    "combined_loss_data = (\n",
    "    pd.concat(\n",
    "        Sweep(study).loss().assign(study=name).set_index(\"study\", append=True)\n",
    "        for name, study in studies.items()\n",
    "    )\n",
    "    .reorder_levels([\"study\", \"trial\", \"step\"])\n",
    ")\n",
    "combined_summaries_data = (\n",
    "    pd.concat(\n",
    "        Sweep(study).summary().assign(study=name).set_index(\"study\", append=True)\n",
    "        for name, study in studies.items()\n",
    "    )\n",
    "    .reorder_levels([\"study\", \"trial\"])\n",
    ")   "
   ]
  },
  {
   "cell_type": "code",
   "execution_count": null,
   "metadata": {},
   "outputs": [],
   "source": [
    "best_runs = combined_summaries_data[\"err/val\"].groupby(\"study\").idxmin()\n",
    "best_runs.pipe(pd.DataFrame)"
   ]
  },
  {
   "cell_type": "code",
   "execution_count": null,
   "metadata": {},
   "outputs": [],
   "source": [
    "(\n",
    "    combined_loss_data\n",
    "    .unstack(level=\"step\")\n",
    "    .loc[best_runs]\n",
    "    .stack(level=\"step\")\n",
    "    .reset_index()\n",
    "    .pipe((sns.relplot, \"data\"), x=\"step\", y=\"err/val\", hue=\"study\", kind=\"line\", aspect=1.6)\n",
    "    .set(ylim=(0.01, 0.03))\n",
    "    .savefig(\"../thesis/Figures/mnist-best-runs-val-curves.pdf\")\n",
    ")\n"
   ]
  },
  {
   "cell_type": "code",
   "execution_count": null,
   "metadata": {},
   "outputs": [],
   "source": [
    "import math\n",
    "\n",
    "def rename_cols(x):\n",
    "\n",
    "    if x == \"err/val\":\n",
    "        return \"val. error\"\n",
    "    else:\n",
    "        \n",
    "        return f\"\\\\texttt{{{x.split('.')[-1]}}}\".replace(\"_\", \"\\_\")\n",
    "\n",
    "def format_sctf(float_number):\n",
    "    exponent = math.floor(math.log10(float_number))\n",
    "    mantissa = float_number / 10 ** exponent\n",
    "    mantissa_format = str(mantissa)[0:4]\n",
    "    return \"${0}\\\\times10^{{{1}}}$\".format(mantissa_format, str(int(exponent)))\n",
    "\n",
    "\n",
    "def to_latex(data: pd.DataFrame):\n",
    "\n",
    "    n_cols = len(data.columns)\n",
    "    return data.to_latex(\n",
    "        f\"../thesis/Tables/{key}-hparams.tex\",\n",
    "        escape=False,\n",
    "        formatters={r\"\\texttt{lr}\": format_sctf},\n",
    "        column_format= \"l\" + n_cols*r\"p{2.3cm}\" \n",
    "    )\n",
    "\n",
    "\n",
    "for key, study in studies.items():\n",
    "    (\n",
    "        Sweep(study)\n",
    "        .summary()\n",
    "        .drop(columns=\"datetime_start\")\n",
    "        .head(10)\n",
    "        .rename(columns=rename_cols)\n",
    "        .pipe(to_latex)\n",
    "    )\n"
   ]
  },
  {
   "cell_type": "code",
   "execution_count": null,
   "metadata": {},
   "outputs": [],
   "source": [
    "for key in studies:\n",
    "    print(\n",
    "f\"\"\"\n",
    "\\\\begin{{table}}[htbp]\n",
    "    \\\\centering\n",
    "    \\\\resizebox{{\n",
    "        \\\\ifdim\\\\width>\\\\columnwidth\n",
    "        \\\\columnwidth\n",
    "      \\\\else\n",
    "        \\\\width\n",
    "      \\\\fi\n",
    "    }}{{!}}{{\\\\small\n",
    "    \\\\input{{Tables/{key}-hparams}}\n",
    "    }}\n",
    "    \\\\caption{{Top 10 hyperparameters for INFERENCE according to optuna sweep.}}\n",
    "    \\\\label{{tab:{key}-hparams}}\n",
    "\\end{{table}}\n",
    "\"\"\"\n",
    ")"
   ]
  },
  {
   "cell_type": "markdown",
   "metadata": {},
   "source": [
    "# Test errors\n"
   ]
  },
  {
   "cell_type": "code",
   "execution_count": null,
   "metadata": {},
   "outputs": [],
   "source": [
    "mcmc_dir = Path(\"../experiment_results/mnist/2021-12-16/13-07-51/\")\n",
    "mcmc_runs = list(map(Run, mcmc_dir.glob(\"[01]/\")))\n",
    "\n",
    "other_dir  = Path(\"../experiment_results/mnist/2021-12-17/11-01-32/\")\n",
    "other_runs = list(map(Run, other_dir.glob(\"[012]/\")))\n",
    "\n",
    "all_runs = other_runs + mcmc_runs "
   ]
  },
  {
   "cell_type": "code",
   "execution_count": null,
   "metadata": {},
   "outputs": [],
   "source": [
    "import hydra\n",
    "dm = hydra.utils.instantiate(all_runs[0].cfg.data)\n",
    "dm.setup()\n",
    "n_test = len(dm.test_data)"
   ]
  },
  {
   "cell_type": "code",
   "execution_count": null,
   "metadata": {},
   "outputs": [],
   "source": [
    "import numpy as np\n",
    "from math import sqrt\n",
    "\n",
    "\n",
    "def get_err_incl_ci(error: float) -> str:\n",
    "    pm = sqrt(error * (1 - error) / n_test) * 1.96\n",
    "    return f\"${error:.3} \\\\pm {pm:.2}$\"\n",
    "\n",
    "\n",
    "(\n",
    "    pd.DataFrame.from_dict(\n",
    "        {\n",
    "            run.inference_label: {\"err/test\": run.get_scalar(\"err/test\").iloc[0]}\n",
    "            for run in all_runs\n",
    "        },\n",
    "        orient=\"index\",\n",
    "    )\n",
    "    .apply({\"err/test\" :get_err_incl_ci})\n",
    "    .rename(columns={\"err/test\": \"Test error incl. 95\\\\% CI\"})\n",
    "    .to_latex(\"../thesis/Tables/mnist_test_err.tex\", escape=False)\n",
    ")\n"
   ]
  },
  {
   "cell_type": "code",
   "execution_count": null,
   "metadata": {},
   "outputs": [],
   "source": []
  }
 ],
 "metadata": {
  "interpreter": {
   "hash": "3ce311d752f7559aeab697e045d55b95fb71177de97c9fd9eefeb88845310a84"
  },
  "kernelspec": {
   "display_name": "Python 3.9.7 64-bit ('.venv': venv)",
   "name": "python3"
  },
  "language_info": {
   "codemirror_mode": {
    "name": "ipython",
    "version": 3
   },
   "file_extension": ".py",
   "mimetype": "text/x-python",
   "name": "python",
   "nbconvert_exporter": "python",
   "pygments_lexer": "ipython3",
   "version": "3.9.7"
  }
 },
 "nbformat": 4,
 "nbformat_minor": 2
}
