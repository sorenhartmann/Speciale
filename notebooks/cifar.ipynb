{
 "cells": [
  {
   "cell_type": "code",
   "execution_count": null,
   "metadata": {},
   "outputs": [],
   "source": [
    "from tensorboard.backend.event_processing.event_accumulator import EventAccumulator\n",
    "import pandas as pd\n",
    "from src.experiments.common import get_run_from_path\n",
    "from src.experiments.wrangle import get_multirun_statistics\n",
    "\n",
    "import altair as alt\n",
    "from altair import datum, expr\n",
    "from src.visualization.common import setup_altair\n",
    "setup_altair()\n",
    "\n",
    "import plotly.express as px"
   ]
  },
  {
   "cell_type": "code",
   "execution_count": null,
   "metadata": {},
   "outputs": [],
   "source": [
    "multirun = get_run_from_path(\n",
    "    \"/Users/soren/Repositories/Speciale/experiment_results\"\n",
    "    \"/cifar/2021-10-28/13-40-50\"\n",
    "    )\n",
    "tag = \"err/val\"\n",
    "parameters = [\"inference.lr\", \"trainer.gradient_clip_algorithm\", \"trainer.gradient_clip_val\"]\n",
    "metrics = get_multirun_statistics(multirun, parameters, \"err/val\")"
   ]
  },
  {
   "cell_type": "code",
   "execution_count": null,
   "metadata": {},
   "outputs": [],
   "source": [
    "pd.Series(metrics[tag][-10:].mean(), name=\"3\")"
   ]
  },
  {
   "cell_type": "code",
   "execution_count": null,
   "metadata": {},
   "outputs": [],
   "source": [
    "metrics"
   ]
  },
  {
   "cell_type": "code",
   "execution_count": null,
   "metadata": {},
   "outputs": [],
   "source": [
    "alt.themes"
   ]
  },
  {
   "cell_type": "code",
   "execution_count": null,
   "metadata": {},
   "outputs": [],
   "source": [
    "(\n",
    "    metrics\n",
    "    .reset_index()\n",
    "    .rename(columns=lambda x: x.replace(\".\", \"/\"))\n",
    "    .pipe(alt.Chart)\n",
    "    .mark_line(clip=True)\n",
    "    .encode(\n",
    "        x=\"step\",\n",
    "        y=tag,\n",
    "        column=\"trainer/gradient_clip_val\",\n",
    "        row=\"trainer/gradient_clip_algorithm\",\n",
    "        color=alt.Color(\"inference/lr:O\", scale=alt.Scale(scheme=\"plasma\"))\n",
    "    )\n",
    ")\n"
   ]
  },
  {
   "cell_type": "code",
   "execution_count": null,
   "metadata": {},
   "outputs": [],
   "source": []
  },
  {
   "cell_type": "code",
   "execution_count": null,
   "metadata": {},
   "outputs": [],
   "source": []
  }
 ],
 "metadata": {
  "interpreter": {
   "hash": "3ce311d752f7559aeab697e045d55b95fb71177de97c9fd9eefeb88845310a84"
  },
  "kernelspec": {
   "display_name": "Python 3.9.7 64-bit ('.venv': venv)",
   "name": "python3"
  },
  "language_info": {
   "codemirror_mode": {
    "name": "ipython",
    "version": 3
   },
   "file_extension": ".py",
   "mimetype": "text/x-python",
   "name": "python",
   "nbconvert_exporter": "python",
   "pygments_lexer": "ipython3",
   "version": "3.9.7"
  },
  "orig_nbformat": 4
 },
 "nbformat": 4,
 "nbformat_minor": 2
}
