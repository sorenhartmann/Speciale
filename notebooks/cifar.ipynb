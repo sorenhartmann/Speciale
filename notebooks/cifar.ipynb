{
 "cells": [
  {
   "cell_type": "code",
   "execution_count": null,
   "metadata": {},
   "outputs": [],
   "source": [
    "from tensorboard.backend.event_processing.event_accumulator import EventAccumulator\n",
    "import pandas as pd\n",
    "from src.experiments.common import get_run_from_path\n",
    "from src.visualization.model_performance import get_run_statistics\n",
    "from functools import cache\n",
    "from omegaconf import OmegaConf\n",
    "import seaborn as sns\n",
    "from tqdm import tqdm\n",
    "sns.set_style(\"white\")\n"
   ]
  },
  {
   "cell_type": "code",
   "execution_count": null,
   "metadata": {},
   "outputs": [],
   "source": [
    "multirun = get_run_from_path(\n",
    "    \"/Users/soren/Repositories/Speciale/experiment_results\"\n",
    "    \"/cifar/2021-10-21/16-44-57-grid-search\"\n",
    "    )\n",
    "tag = \"err/val\"\n",
    "parameters = [\"inference.lr\", \"inference.initial_rho\", \"trainer.gradient_clip_val\"]"
   ]
  },
  {
   "cell_type": "code",
   "execution_count": null,
   "metadata": {},
   "outputs": [],
   "source": [
    "val_errs = {run.id : get_run_statistics(run) for run in tqdm(multirun.runs)}"
   ]
  },
  {
   "cell_type": "code",
   "execution_count": null,
   "metadata": {},
   "outputs": [],
   "source": [
    "s = val_errs['16-44-57-grid-search/1']"
   ]
  },
  {
   "cell_type": "code",
   "execution_count": null,
   "metadata": {},
   "outputs": [],
   "source": [
    "s"
   ]
  },
  {
   "cell_type": "code",
   "execution_count": null,
   "metadata": {},
   "outputs": [],
   "source": [
    "t = pd.concat(val_errs,names=[\"id\"])\n",
    "t"
   ]
  },
  {
   "cell_type": "code",
   "execution_count": null,
   "metadata": {},
   "outputs": [],
   "source": [
    "def get_params(run):\n",
    "    return {param: OmegaConf.select(run.config, param) for param in parameters}\n",
    "\n",
    "param_values = {run.id: get_params(run) for run in multirun.runs}\n",
    "\n",
    "metrics = (\n",
    "    pd.DataFrame.from_dict(param_values, orient=\"index\")\n",
    "    .sort_index()\n",
    "    .assign(**{tag: pd.Series(val_errs)})\n",
    ")"
   ]
  },
  {
   "cell_type": "code",
   "execution_count": null,
   "metadata": {},
   "outputs": [],
   "source": [
    "t"
   ]
  },
  {
   "cell_type": "code",
   "execution_count": null,
   "metadata": {},
   "outputs": [],
   "source": [
    "sns.relplot(data=metrics, kind=\"line\", y=\"err/val\", col=\"inference.initial_rho\", x=\"inference.lr\", hue=\"trainer.gradient_clip_val\")"
   ]
  },
  {
   "cell_type": "code",
   "execution_count": null,
   "metadata": {},
   "outputs": [],
   "source": [
    "columns = [\"inference.lr\",\"inference.initial_rho\", \"trainer.gradient_clip_val\"]\n",
    "value = \"err/val\"\n",
    "\n",
    "plt.figure(figsize=(12, 6))\n",
    "parallel_coordinates(metrics, columns, value, cmap=\"plasma\")"
   ]
  },
  {
   "cell_type": "code",
   "execution_count": null,
   "metadata": {},
   "outputs": [],
   "source": [
    "from scipy.stats import linregress\n",
    "\n",
    "def guess_log_scale(values):\n",
    "    y = np.sort(values)\n",
    "    x = np.arange(len(y))\n",
    "    _, _, r_norm, _, _  = linregress(x, y)\n",
    "    if np.all(y > 0):\n",
    "        _, _, r_log, _, _  = linregress(x, np.log(y))\n",
    "    else:\n",
    "        r_log = -np.inf\n",
    "\n",
    "    return r_norm < r_log\n",
    "\n",
    "for metric in metrics.columns:\n",
    "    log_scale = guess_log_scale(metrics[metric].values)\n",
    "    print(metric, log_scale)"
   ]
  },
  {
   "cell_type": "code",
   "execution_count": null,
   "metadata": {},
   "outputs": [],
   "source": []
  },
  {
   "cell_type": "code",
   "execution_count": null,
   "metadata": {},
   "outputs": [],
   "source": [
    "def parallel_coordinates(data, columns, value, cmap=None):\n",
    "\n",
    "    ## Credit: https://stackoverflow.com/a/60401570\n",
    "\n",
    "    ynames = columns + [value]\n",
    "    ys = data[ynames].to_numpy()\n",
    "\n",
    "    for i in range(ys.shape[1]-1):\n",
    "        if guess_log_scale(ys[:, i]):\n",
    "            ys[:, i] = np.log(ys[:, i])\n",
    "            ynames[i] = f\"log({ynames[i]})\"\n",
    "\n",
    "    ymins = ys.min(axis=0)\n",
    "    ymaxs = ys.max(axis=0)\n",
    "    dys = ymaxs - ymins\n",
    "    ymins -= dys * 0.05  # add 5% padding below and above\n",
    "    ymaxs += dys * 0.05\n",
    "    dys = ymaxs - ymins\n",
    "    zs = np.zeros_like(ys)\n",
    "    zs[:, 0] = ys[:, 0]\n",
    "    zs[:, 1:] = (ys[:, 1:] - ymins[1:]) / dys[1:] * dys[0] + ymins[0]\n",
    "\n",
    "\n",
    "    host = plt.gca()\n",
    "    # fig, host = plt.subplots(figsize=(10,4))\n",
    "\n",
    "    axes = [host] + [host.twinx() for i in range(ys.shape[1] - 1)]\n",
    "    for i, ax in enumerate(axes):\n",
    "        ax.set_ylim(ymins[i], ymaxs[i])\n",
    "        ax.spines[\"top\"].set_visible(False)\n",
    "        ax.spines[\"bottom\"].set_visible(False)\n",
    "        # ax.set_yscale(\"log\")\n",
    "\n",
    "        if ax != host:\n",
    "            ax.spines[\"left\"].set_visible(False)\n",
    "            ax.yaxis.set_ticks_position(\"right\")\n",
    "            ax.spines[\"right\"].set_position((\"axes\", i / (ys.shape[1] - 1)))\n",
    "\n",
    "    host.set_xlim(0, ys.shape[1] - 1)\n",
    "    host.set_xticks(range(ys.shape[1]))\n",
    "    host.set_xticklabels(ynames, fontsize=14)\n",
    "    host.tick_params(axis=\"x\", which=\"major\", pad=7)\n",
    "    host.spines[\"right\"].set_visible(False)\n",
    "\n",
    "    values = ys[:, -1]\n",
    "    if cmap is None:\n",
    "        cmap = plt.get_cmap()\n",
    "    sm = plt.cm.ScalarMappable(\n",
    "        cmap=cmap, norm=plt.Normalize(vmin=np.min(values), vmax=np.max(values))\n",
    "    )\n",
    "    colors = sm.cmap(values)\n",
    "\n",
    "    for j in range(ys.shape[0]):\n",
    "\n",
    "        # create bezier curves\n",
    "        verts = list(\n",
    "            zip(\n",
    "                [\n",
    "                    x\n",
    "                    for x in np.linspace(0, len(ys) - 1, len(ys) * 3 - 2, endpoint=True)\n",
    "                ],\n",
    "                np.repeat(zs[j, :], 3)[1:-1],\n",
    "            )\n",
    "        )\n",
    "        codes = [Path.MOVETO] + [Path.CURVE4 for _ in range(len(verts) - 1)]\n",
    "        path = Path(verts, codes)\n",
    "        patch = patches.PathPatch(\n",
    "            path, facecolor=\"none\", lw=2, alpha=0.7, edgecolor=colors[j]\n",
    "        )\n",
    "        host.add_patch(patch)\n",
    "\n",
    "    plt.tight_layout()\n",
    "    plt.show()\n"
   ]
  },
  {
   "cell_type": "code",
   "execution_count": null,
   "metadata": {},
   "outputs": [],
   "source": []
  }
 ],
 "metadata": {
  "interpreter": {
   "hash": "3ce311d752f7559aeab697e045d55b95fb71177de97c9fd9eefeb88845310a84"
  },
  "kernelspec": {
   "display_name": "Python 3.9.7 64-bit ('.venv': venv)",
   "name": "python3"
  },
  "language_info": {
   "codemirror_mode": {
    "name": "ipython",
    "version": 3
   },
   "file_extension": ".py",
   "mimetype": "text/x-python",
   "name": "python",
   "nbconvert_exporter": "python",
   "pygments_lexer": "ipython3",
   "version": "3.9.7"
  },
  "orig_nbformat": 4
 },
 "nbformat": 4,
 "nbformat_minor": 2
}
