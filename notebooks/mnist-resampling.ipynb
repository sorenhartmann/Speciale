{
 "cells": [
  {
   "cell_type": "code",
   "execution_count": null,
   "metadata": {},
   "outputs": [],
   "source": [
    "from pathlib import Path\n",
    "from dataclasses import dataclass\n",
    "from typing import Union\n",
    "from omegaconf import OmegaConf\n",
    "import pandas as pd\n",
    "dir_ = Path(\"../experiment_results/mnist/2021-12-16/13-07-51/\")\n"
   ]
  },
  {
   "cell_type": "code",
   "execution_count": null,
   "metadata": {},
   "outputs": [],
   "source": [
    "@dataclass\n",
    "class Run:\n",
    "    dir: Union[str, Path]\n",
    "\n",
    "    @property\n",
    "    def cfg(self):\n",
    "        return OmegaConf.load(self.dir / \".hydra\" / \"config.yaml\")\n",
    "\n",
    "runs = list(map(Run, dir_.glob(\"[01]/\")))"
   ]
  },
  {
   "cell_type": "code",
   "execution_count": null,
   "metadata": {},
   "outputs": [],
   "source": [
    "curves = pd.concat(\n",
    "    pd.read_json(run.dir / \"sample_resampling_curve.json\")\n",
    "    .rename_axis(index=[\"n_sampled\"])\n",
    "    .assign(sampler=run.cfg.inference.sampler._target_.split(\".\")[-1])\n",
    "    .set_index(\"sampler\", append=True)\n",
    "    .reorder_levels([\"sampler\", \"n_sampled\"])\n",
    "    .sort_index()\n",
    "    for run in runs\n",
    ")\n"
   ]
  },
  {
   "cell_type": "code",
   "execution_count": null,
   "metadata": {},
   "outputs": [],
   "source": [
    "import seaborn as sns\n",
    "import matplotlib.pyplot as plt\n",
    "sns.set_style(\"white\")\n",
    "sns.lineplot(data=curves.reset_index(), x=\"n_sampled\", y=\"error_rate\", hue=\"sampler\")\n",
    "sns.despine()\n",
    "h, l = plt.gca().get_legend_handles_labels()\n",
    "plt.gca().legend(h, l, frameon=False)\n",
    "plt.ylim(None, 0.02)"
   ]
  },
  {
   "cell_type": "code",
   "execution_count": null,
   "metadata": {},
   "outputs": [],
   "source": [
    "import torch\n",
    "a = torch.load(runs[0].dir / \"temperature_samples.pt\")"
   ]
  },
  {
   "cell_type": "code",
   "execution_count": null,
   "metadata": {},
   "outputs": [],
   "source": []
  },
  {
   "cell_type": "code",
   "execution_count": null,
   "metadata": {},
   "outputs": [],
   "source": []
  },
  {
   "cell_type": "code",
   "execution_count": null,
   "metadata": {},
   "outputs": [],
   "source": [
    "import torch\n",
    "\n",
    "temperatures = pd.concat(\n",
    "    pd.DataFrame.from_dict(\n",
    "        torch.load(run.dir / \"temperature_samples.pt\"),\n",
    "        orient=\"index\",\n",
    "    )\n",
    "    .rename_axis(index=[\"step\", \"parameter\"])\n",
    "    .loc[lambda x: x.index.get_level_values(\"step\") % 50 == 0]\n",
    "    .assign(sampler=run.cfg.inference.sampler._target_.split(\".\")[-1])\n",
    "    .set_index(\"sampler\", append=True)\n",
    "    .reorder_levels([\"sampler\", \"parameter\", \"step\"])\n",
    "    for run in runs\n",
    ")"
   ]
  },
  {
   "cell_type": "markdown",
   "metadata": {},
   "source": []
  },
  {
   "cell_type": "code",
   "execution_count": null,
   "metadata": {},
   "outputs": [],
   "source": []
  },
  {
   "cell_type": "code",
   "execution_count": null,
   "metadata": {},
   "outputs": [],
   "source": [
    "import numpy as np\n",
    "from scipy.stats import chi2\n",
    "def plot_chi2(df, **kwargs):\n",
    "    xlim = plt.gca().axes.get_xlim()\n",
    "    xx = np.linspace(*xlim, 300)\n",
    "    yy = chi2(df.iloc[0]).pdf(xx)\n",
    "    plt.plot(xx, yy, color=\"black\")\n",
    "\n",
    "fg = sns.displot(\n",
    "    data=temperatures.reset_index(),\n",
    "    x=\"temperature_sum\",\n",
    "    hue=\"sampler\",\n",
    "    kind=\"kde\",\n",
    "    col=\"parameter\",\n",
    "    col_wrap=3,\n",
    "    common_norm=False,\n",
    "    facet_kws={\"sharex\":False, \"sharey\":False},\n",
    ")\n",
    "fg.map(plot_chi2, \"n_params\")"
   ]
  },
  {
   "cell_type": "code",
   "execution_count": null,
   "metadata": {},
   "outputs": [],
   "source": []
  }
 ],
 "metadata": {
  "interpreter": {
   "hash": "3ce311d752f7559aeab697e045d55b95fb71177de97c9fd9eefeb88845310a84"
  },
  "kernelspec": {
   "display_name": "Python 3.9.7 64-bit ('.venv': venv)",
   "language": "python",
   "name": "python3"
  },
  "language_info": {
   "codemirror_mode": {
    "name": "ipython",
    "version": 3
   },
   "file_extension": ".py",
   "mimetype": "text/x-python",
   "name": "python",
   "nbconvert_exporter": "python",
   "pygments_lexer": "ipython3",
   "version": "3.9.7"
  }
 },
 "nbformat": 4,
 "nbformat_minor": 2
}
