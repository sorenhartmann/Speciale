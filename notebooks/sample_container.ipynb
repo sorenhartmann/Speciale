{
 "cells": [
  {
   "cell_type": "code",
   "execution_count": null,
   "metadata": {},
   "outputs": [],
   "source": [
    "import altair as alt\n",
    "from src.visualization.common import setup_altair\n",
    "setup_altair()\n",
    "\n",
    "from src.inference.mcmc.sample_containers import DoublingSampleContainer\n",
    "\n",
    "class DummyState:\n",
    "\n",
    "    def __init__(self):\n",
    "        self.i = -1\n",
    "\n",
    "    def do_something(self):\n",
    "        self.i += 1\n",
    "\n",
    "    def get_state(self):\n",
    "        return f\"State: {self.i}\""
   ]
  },
  {
   "cell_type": "code",
   "execution_count": null,
   "metadata": {},
   "outputs": [],
   "source": [
    "cont = DoublingSampleContainer(10)\n",
    "model = DummyState()\n",
    "\n",
    "obs = []\n",
    "for i in range(500):\n",
    "\n",
    "    model.do_something()\n",
    "    cont.register_sample(lambda : model.get_state())\n",
    "    obs.append({\"step\" : i, \"kept\": list(cont.samples)})\n"
   ]
  },
  {
   "cell_type": "code",
   "execution_count": null,
   "metadata": {},
   "outputs": [],
   "source": [
    "import pandas as pd\n",
    "import seaborn as sns\n",
    "\n",
    "base = (\n",
    "    pd.DataFrame(obs)\n",
    "    .explode(\"kept\")\n",
    "    .groupby(\"kept\")\n",
    "    .agg([\"min\", \"max\"])\n",
    "    .step\n",
    "    .reset_index()\n",
    "    .melt(id_vars=\"kept\")\n",
    "    .pipe(alt.Chart)\n",
    ")\n",
    "\n",
    "bars = (\n",
    "    base\n",
    "    .mark_line()\n",
    "    .encode(\n",
    "        x=\"kept\",\n",
    "        y=alt.Y(\"value\", scale=alt.Scale(reverse=True)),\n",
    "        detail=\"kept\"\n",
    "    )\n",
    ")\n",
    "\n",
    "\n",
    "points = (\n",
    "    base\n",
    "    .mark_point()\n",
    "    .encode(\n",
    "        x=\"kept\",\n",
    "        y=alt.Y(\"value\", scale=alt.Scale(reverse=True))\n",
    "    )\n",
    "\n",
    ")\n",
    "points + bars"
   ]
  },
  {
   "cell_type": "code",
   "execution_count": null,
   "metadata": {},
   "outputs": [],
   "source": [
    "points = (\n",
    "    base\n",
    "    .transform_fold([\"min\", \"max\"])\n",
    "    .mark_point()\n",
    "    .encode(\n",
    "        x=\"kept\",\n",
    "        y=alt.Y(\"value\", scale=alt.Scale(reverse=True)),\n",
    "        color=\"key\"\n",
    "    )\n",
    ")\n",
    "points"
   ]
  },
  {
   "cell_type": "code",
   "execution_count": null,
   "metadata": {},
   "outputs": [],
   "source": []
  }
 ],
 "metadata": {
  "interpreter": {
   "hash": "3ce311d752f7559aeab697e045d55b95fb71177de97c9fd9eefeb88845310a84"
  },
  "kernelspec": {
   "display_name": "Python 3.9.7 64-bit ('.venv': venv)",
   "name": "python3"
  },
  "language_info": {
   "codemirror_mode": {
    "name": "ipython",
    "version": 3
   },
   "file_extension": ".py",
   "mimetype": "text/x-python",
   "name": "python",
   "nbconvert_exporter": "python",
   "pygments_lexer": "ipython3",
   "version": "3.9.7"
  },
  "orig_nbformat": 4
 },
 "nbformat": 4,
 "nbformat_minor": 2
}
