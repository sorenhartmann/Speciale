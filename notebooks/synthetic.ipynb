{
 "cells": [
  {
   "cell_type": "code",
   "execution_count": null,
   "metadata": {},
   "outputs": [],
   "source": [
    "%load_ext autoreload\n",
    "%autoreload 2\n",
    "from src.utils import Run, EXPERIMENT_PATH\n",
    "from src.inference.mcmc.example_distribution import Example\n",
    "import torch\n",
    "import matplotlib.pyplot as plt\n",
    "import numpy as np\n",
    "import seaborn as sns"
   ]
  },
  {
   "cell_type": "code",
   "execution_count": null,
   "metadata": {},
   "outputs": [],
   "source": [
    "dir_ = EXPERIMENT_PATH/\"synthetic\"/\"2021-11-25\"/\"10-56-20\"\n",
    "runs = list(map(Run, dir_.glob(\"[0-9]/\")))\n"
   ]
  },
  {
   "cell_type": "code",
   "execution_count": null,
   "metadata": {},
   "outputs": [],
   "source": [
    "def plot_distribution(samples, bins, *args, ax=None, **kwargs):\n",
    "\n",
    "    ax = kwargs.pop(\"ax\", None)\n",
    "    if ax is None:\n",
    "        ax = plt.gca()\n",
    "\n",
    "    xx = bins[:-1] + (bins[1] - bins[0]) / 2\n",
    "    yy, _ = np.histogram(samples, bins, density=True)\n",
    "    ax.plot(xx, yy, *args, **kwargs)"
   ]
  },
  {
   "cell_type": "code",
   "execution_count": null,
   "metadata": {},
   "outputs": [],
   "source": []
  },
  {
   "cell_type": "code",
   "execution_count": null,
   "metadata": {},
   "outputs": [],
   "source": [
    "runs[0].cfg"
   ]
  },
  {
   "cell_type": "code",
   "execution_count": null,
   "metadata": {},
   "outputs": [],
   "source": [
    "from dataclasses import asdict\n",
    "import pandas as pd\n",
    "\n",
    "\n",
    "sample_data = pd.concat(\n",
    "    pd.DataFrame(pd.Series(torch.load(r._dir / \"samples.pt\"), ))\n",
    "    .rename_axis(index=\"sample\")\n",
    "    .assign(\n",
    "        Sampler=r.cfg[\"legend\"]\n",
    "    )\n",
    "    .set_index([\"Sampler\"], append=True)\n",
    "    .reorder_levels([\"Sampler\", \"sample\"])\n",
    "    for r in runs if \"sampler\" in r.cfg[\"inference\"]\n",
    ")\n",
    "\n",
    "\n",
    "\n",
    "# plot_distribution(samples, bins)\n",
    "# plt.plot(xx, Example.density(xx))"
   ]
  },
  {
   "cell_type": "code",
   "execution_count": null,
   "metadata": {},
   "outputs": [],
   "source": []
  },
  {
   "cell_type": "code",
   "execution_count": null,
   "metadata": {},
   "outputs": [],
   "source": [
    "n_bins = 60\n",
    "bins = np.linspace(-3, 3, n_bins + 1)\n",
    "xx = np.linspace(bins[0], bins[-1], 200)\n",
    "\n",
    "\n",
    "def get_x_y(data):\n",
    "    y, _ = np.histogram(data, bins=bins, density=True)\n",
    "    diff = bins[1] - bins[0]\n",
    "    x = bins[1:] - diff / 2\n",
    "    return pd.DataFrame({\"$x$\": x, \"Density\": y})\n",
    "\n",
    "\n",
    "true_dist = pd.DataFrame(\n",
    "    {\n",
    "        \"$x$\": np.linspace(-3, 3),\n",
    "    }\n",
    ").assign(\n",
    "    Density= lambda x: Example.density(x[\"$x$\"]),\n",
    "    Sampler=\"True distribution\",\n",
    ")\n",
    "\n",
    "(\n",
    "    sample_data.groupby(level=\"Sampler\")\n",
    "    .apply(get_x_y)\n",
    "    .reset_index(\"Sampler\")\n",
    "    .pipe(lambda x: pd.concat([true_dist, x]))\n",
    "    .reset_index(drop=True)\n",
    "    .pipe(\n",
    "        (sns.relplot, \"data\"),\n",
    "        x=\"$x$\",\n",
    "        y=\"Density\",\n",
    "        style=\"Sampler\",\n",
    "        hue=\"Sampler\",\n",
    "        kind=\"line\",\n",
    "        aspect=1.5,\n",
    "        height=3,\n",
    "        # palette=\"colorblind\"\n",
    "    )\n",
    ")\n",
    "# plt.plot(xx, Example.density(xx))\n",
    "plt.ylim(None, 0.6)\n",
    "plt.xlim(-2.5, 2.5)\n",
    "sns.despine()\n",
    "plt.savefig(\"../thesis/Figures/synthetic.pdf\")\n"
   ]
  },
  {
   "cell_type": "code",
   "execution_count": null,
   "metadata": {},
   "outputs": [],
   "source": [
    "import seaborn as sns\n",
    "sns.histplot(data=sample_data.reset_index(\"legend\").reset_index(drop=True), x=\"value\", hue=\"legend\", style=\"legend\")"
   ]
  },
  {
   "cell_type": "code",
   "execution_count": null,
   "metadata": {},
   "outputs": [],
   "source": [
    "_plot_dist(samples.numpy(), bins=bins)"
   ]
  },
  {
   "cell_type": "code",
   "execution_count": null,
   "metadata": {},
   "outputs": [],
   "source": []
  },
  {
   "cell_type": "code",
   "execution_count": null,
   "metadata": {},
   "outputs": [],
   "source": [
    "torch.manual_seed(10)\n",
    "samplable = Example(grad_noise=0.)\n",
    "sampler = Hamiltonian(n_steps=50, step_size=0.02).setup(samplable)\n",
    "trace_data = get_traces(sampler, 50)"
   ]
  },
  {
   "cell_type": "code",
   "execution_count": null,
   "metadata": {},
   "outputs": [],
   "source": [
    "is_accepted = trace_data.groupby(level=0).last()[\"accepted\"]\n",
    "accepted_traces = is_accepted.index[is_accepted]\n",
    "accepted_states = trace_data.loc[accepted_traces].groupby(level=0).last()\n",
    "\n",
    "initial_states  = trace_data.groupby(level=0).first()"
   ]
  },
  {
   "cell_type": "code",
   "execution_count": null,
   "metadata": {},
   "outputs": [],
   "source": [
    "by_trace = trace_data.groupby(level=0)\n",
    "momentum_updates = by_trace.last().copy().rename(columns={\"momentum\" : \"momentum_from\"})\n",
    "del momentum_updates[\"accepted\"]\n",
    "momentum_updates.loc[momentum_updates.index[:-1], \"momentum_to\"] = by_trace.first().loc[1:][\"momentum\"].values\n",
    "momentum_updates = momentum_updates.reset_index().melt(\n",
    "    id_vars=[\"trace\", \"value\"],\n",
    "    value_name=\"momentum\",\n",
    ").sort_values(\"trace\").reset_index(drop=True)\n",
    "del momentum_updates[\"variable\"]"
   ]
  },
  {
   "cell_type": "code",
   "execution_count": null,
   "metadata": {},
   "outputs": [],
   "source": [
    "plt.figure(figsize=(10, 8))\n",
    "sns.lineplot(\n",
    "    x=\"value\", y=\"momentum\", data=trace_data, sort=False, units=\"trace\", estimator=None\n",
    ")\n",
    "sns.scatterplot(x=\"value\", y=\"momentum\", data=accepted_states, marker=\"X\", sizes=20)\n",
    "sns.scatterplot(x=\"value\", y=\"momentum\", data=initial_states, marker=\"o\")\n",
    "sns.lineplot(\n",
    "    x=\"value\",\n",
    "    y=\"momentum\",\n",
    "    color=\"grey\",\n",
    "    units=\"trace\",\n",
    "    estimator=None,\n",
    "    data=momentum_updates,\n",
    "    linestyle=\"dashed\",\n",
    ")\n",
    "final_states = trace_data.groupby(level=0).last()\n",
    "plt.xlim(-2, 2)\n",
    "plt.ylim(-3, 3)\n",
    "plt.show()\n"
   ]
  },
  {
   "cell_type": "code",
   "execution_count": null,
   "metadata": {},
   "outputs": [],
   "source": []
  }
 ],
 "metadata": {
  "interpreter": {
   "hash": "d767b8386092d7cf7d2b9cae3bbc1311fb6c0ac52cead8f221dab1753f4d4fb8"
  },
  "kernelspec": {
   "display_name": "Python 3.9.6 64-bit ('.venv': venv)",
   "name": "python3"
  },
  "language_info": {
   "codemirror_mode": {
    "name": "ipython",
    "version": 3
   },
   "file_extension": ".py",
   "mimetype": "text/x-python",
   "name": "python",
   "nbconvert_exporter": "python",
   "pygments_lexer": "ipython3",
   "version": "3.9.7"
  }
 },
 "nbformat": 4,
 "nbformat_minor": 2
}
