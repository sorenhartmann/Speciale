{
 "cells": [
  {
   "cell_type": "code",
   "execution_count": null,
   "metadata": {},
   "outputs": [],
   "source": [
    "%load_ext autoreload\n",
    "%autoreload 2\n",
    "\n",
    "# from src.visualization.grad_variance_estimates import *\n",
    "import matplotlib.pyplot as plt\n",
    "import pandas as pd\n",
    "from hydra.utils import instantiate\n",
    "from typing import Tuple\n",
    "import seaborn as sns\n",
    "# from src.visualization.simulated import *\n",
    "from src.utils import Run, EXPERIMENT_PATH\n",
    "from src.analysis.sample_distribution import load_samples\n",
    "from src.analysis.simulated import get_exact_posterior\n",
    "from src.analysis.utils import get_variance_estimator\n",
    "\n",
    "from src.analysis.colors import ColorPalette"
   ]
  },
  {
   "cell_type": "code",
   "execution_count": null,
   "metadata": {},
   "outputs": [],
   "source": [
    "run_dirs = (EXPERIMENT_PATH / \"sghmc_stats\"/\"2021-11-29\"/\"15-42-37\").glob(\"[0-9]\")\n",
    "runs = [Run(x) for x in  run_dirs]"
   ]
  },
  {
   "cell_type": "code",
   "execution_count": null,
   "metadata": {},
   "outputs": [],
   "source": [
    "def eval_poly(x, coeffs):\n",
    "    return coeffs[0] + sum(c*x**i for i, c in enumerate(coeffs[1:], start=1))\n",
    "\n",
    "dataset = instantiate(runs[0].cfg.data.dataset)\n",
    "X, Y = dataset[:]"
   ]
  },
  {
   "cell_type": "code",
   "execution_count": null,
   "metadata": {},
   "outputs": [],
   "source": [
    "posterior = get_exact_posterior(X, Y)\n",
    "sample_data = pd.concat(\n",
    "    load_samples(r)\n",
    "    .reset_index(level=[\"sampler\", \"batch_size\"], drop=True)\n",
    "    .assign(estimator = get_variance_estimator(r))\n",
    "    .set_index(\"estimator\", append=True)\n",
    "    .reorder_levels([\"estimator\", \"sample\"])\n",
    "    for r in runs\n",
    "    if \"sampler\" in r.cfg[\"inference\"]\n",
    ")"
   ]
  },
  {
   "cell_type": "code",
   "execution_count": null,
   "metadata": {},
   "outputs": [],
   "source": [
    "# i = 1\n",
    "# j = 3\n",
    "\n",
    "# joint_plots = {}\n",
    "\n",
    "# xlims = (-2.5, 1.0)\n",
    "# ylims = (0.1, 0.5)\n",
    "\n",
    "# for run in runs:\n",
    "\n",
    "#     color = pal.get_color(run)\n",
    "#     var_est = get_variance_estimator(run)\n",
    "#     plot_sampled_joint_bivariate(\n",
    "#         sample_data.loc[var_est],\n",
    "#         exact_posterior=posterior,\n",
    "#         xlims=xlims,\n",
    "#         ylims=ylims,\n",
    "#         i=i,\n",
    "#         j=j,\n",
    "#         color=color,\n",
    "#     )\n",
    "\n",
    "#     # fg = sns.pairplot(\n",
    "#     #     sample_data,\n",
    "#     #     kind=\"hist\",\n",
    "#     #     diag_kws={\"stat\": \"density\", \"bins\": 50, \"rasterized\": True},\n",
    "#     #     plot_kws={\"bins\": 50},\n",
    "#     # )\n",
    "#     # fg.map_diag(plot_univariate, posterior=posterior)\n",
    "#     # fg.map_offdiag(plot_bivariate, posterior=posterior)\n",
    "\n",
    "\n",
    "#     # plt.savefig(\"simulated_joint_SGHMCWithVarianceEstimator_5.pdf\")\n"
   ]
  },
  {
   "cell_type": "markdown",
   "metadata": {},
   "source": [
    "# Temperatures"
   ]
  },
  {
   "cell_type": "code",
   "execution_count": null,
   "metadata": {},
   "outputs": [],
   "source": [
    "from src.analysis.temperatures import *\n",
    "from src.analysis.utils import get_variance_estimator\n",
    "\n",
    "temperature_samples = pd.concat(\n",
    "    load_temperatures(run)\n",
    "    .assign(estimator=get_variance_estimator(run))\n",
    "    .set_index(\"estimator\", append=True)\n",
    "    .reorder_levels([\"estimator\", \"parameter\", \"step\"])\n",
    "    for run in runs\n",
    ").assign(T_k=lambda x: x.temperature_sum / x.n_params)\n",
    "\n",
    "temperature_samples\n"
   ]
  },
  {
   "cell_type": "code",
   "execution_count": null,
   "metadata": {},
   "outputs": [],
   "source": [
    "pal = ColorPalette()\n",
    "labeled_runs = {get_variance_estimator(r): r for r in runs}\n",
    "palette, hue_order = pal.get_colors(labeled_runs)"
   ]
  },
  {
   "cell_type": "code",
   "execution_count": null,
   "metadata": {},
   "outputs": [],
   "source": [
    "with sns.color_palette(palette):\n",
    "    fg = temperature_samples.loc[lambda x: x.T_k < 7].pipe(\n",
    "        (sns.displot, \"data\"),\n",
    "        x=\"temperature_sum\",\n",
    "        hue=\"estimator\",\n",
    "        kind=\"kde\",\n",
    "        hue_order=hue_order,\n",
    "        common_norm=False,\n",
    "        aspect=1.6,\n",
    "        height=3\n",
    "    )\n",
    "\n",
    "    lines, texts = plot_temperature_chi2(fg, linestyle=\"dashed\")\n",
    "    plt.legend(lines, texts , frameon=False, title=\"Estimator\")\n",
    "    plt.tight_layout()\n",
    "    plt.savefig(\"../thesis/Figures/temperature_sum_chi2_comp.pdf\")\n"
   ]
  },
  {
   "cell_type": "code",
   "execution_count": null,
   "metadata": {},
   "outputs": [],
   "source": [
    "(\n",
    "    get_frac_in_ci(temperature_samples, [\"estimator\"])\n",
    "    .pipe(format_rate_with_95_ci, \"frac_in_ci\", \"count\")\n",
    "    .rename(\"$\\E[\\hat{T}_K \\in J_{T_K}(d, {0.99})]$\")\n",
    "    .rename_axis(\"Estimator\")\n",
    "    .reset_index()\n",
    "    .to_latex(\n",
    "        \"../thesis/Tables/var-estimators-temperatures.tex\",\n",
    "        escape=False,\n",
    "        index=False,\n",
    "        column_format=\"lc\",\n",
    "    )\n",
    ")\n"
   ]
  }
 ],
 "metadata": {
  "interpreter": {
   "hash": "3ce311d752f7559aeab697e045d55b95fb71177de97c9fd9eefeb88845310a84"
  },
  "kernelspec": {
   "display_name": "Python 3.9.7 64-bit ('.venv': venv)",
   "name": "python3"
  },
  "language_info": {
   "codemirror_mode": {
    "name": "ipython",
    "version": 3
   },
   "file_extension": ".py",
   "mimetype": "text/x-python",
   "name": "python",
   "nbconvert_exporter": "python",
   "pygments_lexer": "ipython3",
   "version": "3.9.7"
  }
 },
 "nbformat": 4,
 "nbformat_minor": 2
}
