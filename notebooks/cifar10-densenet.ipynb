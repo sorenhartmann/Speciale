{
 "cells": [
  {
   "cell_type": "code",
   "execution_count": null,
   "metadata": {},
   "outputs": [],
   "source": [
    "%load_ext autoreload\n",
    "%autoreload 2\n",
    "from pathlib import Path\n",
    "import pandas as pd\n",
    "import seaborn as sns\n",
    "from optuna import Study\n",
    "from datetime import datetime\n",
    "from src.utils import Run, Sweep, set_directory, INFERENCE_LABELS\n",
    "from src.analysis.inference import *"
   ]
  },
  {
   "cell_type": "markdown",
   "metadata": {},
   "source": [
    "# Test errors\n"
   ]
  },
  {
   "cell_type": "code",
   "execution_count": null,
   "metadata": {},
   "outputs": [],
   "source": [
    "def add_dropout_amount(x: pd.Series):\n",
    "\n",
    "    if \"SGD\" not in x.run.cfg.inference._target_ or x.run.cfg.inference.get(\"use_map\", False):\n",
    "        return x\n",
    "    else:\n",
    "        y = x\n",
    "        y.label = f\"SGD (dropout={x.run.cfg.model.dropout})\"\n",
    "        return y\n",
    "\n",
    "runs = (\n",
    "    pd.DataFrame(\n",
    "        [\n",
    "            {\n",
    "                \"run\": Run(p),\n",
    "                \"multirun_start\": datetime.strptime(\n",
    "                    f\"{p.parents[1].stem}/{p.parents[0].stem}\",\n",
    "                    r\"%Y-%m-%d/%H-%M-%S\",\n",
    "                ),\n",
    "                \"index\": int(p.stem),\n",
    "            }\n",
    "            for p in (Path(\"../experiment_results/cifar10_densenet/\").glob(\"*/*/[012]\"))\n",
    "        ]\n",
    "    )\n",
    ")"
   ]
  },
  {
   "cell_type": "code",
   "execution_count": null,
   "metadata": {},
   "outputs": [],
   "source": [
    "latest_runs = (\n",
    "    runs.assign(\n",
    "        label=lambda x: x.run.map(lambda y: y.inference_label),\n",
    "        lr=lambda x: x.run.map(\n",
    "            lambda y: y.cfg.inference.sampler.lr\n",
    "            if \"sampler\" in y.cfg.inference\n",
    "            else y.cfg.inference.lr\n",
    "        ),\n",
    "    )\n",
    "    .apply(add_dropout_amount, axis=1)\n",
    "    .set_index([\"label\", \"multirun_start\", \"index\"])\n",
    "    .sort_index()\n",
    "    .reset_index(level=[\"label\", \"index\"])\n",
    "    .drop_duplicates([\"label\", \"index\"], keep=\"last\")\n",
    "    .set_index([\"index\"], append=True)\n",
    "    .assign(val_err=lambda x: x.run.map(lambda y: y.get_scalar(\"err/val\").iloc[-1]))\n",
    ")\n",
    "latest_runs"
   ]
  },
  {
   "cell_type": "code",
   "execution_count": null,
   "metadata": {},
   "outputs": [],
   "source": [
    "best_runs = latest_runs.loc[lambda x: x.groupby(\"label\").val_err.idxmin()]\n",
    "best_runs.assign(\n",
    "    test_err=lambda x: x.run.map(lambda r: r.get_scalar(\"err/test\").item())\n",
    ")"
   ]
  },
  {
   "cell_type": "code",
   "execution_count": null,
   "metadata": {},
   "outputs": [],
   "source": [
    "all_runs = best_runs.run.tolist()\n",
    "all_labels =  best_runs.label.tolist()\n",
    "\n",
    "mcmc_runs = best_runs.loc[lambda x: x.label.str.contains(\"SGHMC\")].run.tolist()\n",
    "mcmc_labels =  best_runs.loc[lambda x: x.label.str.contains(\"SGHMC\")].label.tolist()"
   ]
  },
  {
   "cell_type": "code",
   "execution_count": null,
   "metadata": {},
   "outputs": [],
   "source": [
    "\n",
    "(\n",
    "    plot_val_err(all_runs, all_labels)\n",
    "    .set(ylim=(None, 0.32))\n",
    "    .savefig(\"../thesis/Figures/cifar-densenet-final-runs-val.pdf\")\n",
    ")\n",
    "(\n",
    "    get_test_err_table(all_runs, all_labels).to_latex(\n",
    "        \"../thesis/Tables/cifar-densenet-test-err.tex\",\n",
    "        escape=False,\n",
    "        index=False,\n",
    "        column_format=\"lc\",\n",
    "    )\n",
    ")\n"
   ]
  },
  {
   "cell_type": "markdown",
   "metadata": {},
   "source": [
    "# Calibration\n"
   ]
  },
  {
   "cell_type": "code",
   "execution_count": null,
   "metadata": {},
   "outputs": [],
   "source": [
    "plot_calibration(all_runs, all_labels, legend_cols=4)\n",
    "plt.savefig(\"../thesis/Figures/cifar10-densenet-calibration.pdf\")\n",
    "get_ece_table(all_runs, all_labels).to_latex(\n",
    "    \"../thesis/Tables/cifar-densenet-ece.tex\", index=False, escape=False, column_format=\"lc\"\n",
    ")"
   ]
  },
  {
   "cell_type": "markdown",
   "metadata": {},
   "source": [
    "## Checking SGHMC assumptions"
   ]
  },
  {
   "cell_type": "code",
   "execution_count": null,
   "metadata": {},
   "outputs": [],
   "source": [
    "plot_temperatures(mcmc_runs, mcmc_labels)\n",
    "plt.subplots_adjust(bottom=0.13)\n",
    "plt.savefig(\"../thesis/Figures/cifar-densenet-temperatures.pdf\")\n",
    "get_temp_ci_table(mcmc_runs, mcmc_labels).to_latex(\n",
    "    \"../thesis/Tables/cifar-densenet-temperatures.tex\",\n",
    "    escape=False,\n",
    "    index=False,\n",
    "    column_format=\"lc\",\n",
    ")\n"
   ]
  }
 ],
 "metadata": {
  "interpreter": {
   "hash": "3ce311d752f7559aeab697e045d55b95fb71177de97c9fd9eefeb88845310a84"
  },
  "kernelspec": {
   "display_name": "Python 3.9.7 64-bit ('.venv': venv)",
   "name": "python3"
  },
  "language_info": {
   "codemirror_mode": {
    "name": "ipython",
    "version": 3
   },
   "file_extension": ".py",
   "mimetype": "text/x-python",
   "name": "python",
   "nbconvert_exporter": "python",
   "pygments_lexer": "ipython3",
   "version": "3.9.7"
  }
 },
 "nbformat": 4,
 "nbformat_minor": 2
}
