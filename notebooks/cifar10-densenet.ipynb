{
 "cells": [
  {
   "cell_type": "code",
   "execution_count": null,
   "metadata": {},
   "outputs": [],
   "source": [
    "%load_ext autoreload\n",
    "%autoreload 2\n",
    "from pathlib import Path\n",
    "import pandas as pd\n",
    "import seaborn as sns\n",
    "from optuna import Study\n",
    "from datetime import datetime\n",
    "from src.utils import Run, Sweep, set_directory, INFERENCE_LABELS\n",
    "from src.analysis.inference import *"
   ]
  },
  {
   "cell_type": "markdown",
   "metadata": {},
   "source": [
    "# Test errors\n"
   ]
  },
  {
   "cell_type": "code",
   "execution_count": null,
   "metadata": {},
   "outputs": [],
   "source": [
    "def add_dropout_amount(x: pd.Series):\n",
    "\n",
    "    if \"SGD\" not in x.run.cfg.inference._target_ or x.run.cfg.inference.get(\"use_map\", False):\n",
    "        return x\n",
    "    else:\n",
    "        y = x\n",
    "        y.label = f\"SGD (dropout={x.run.cfg.model.dropout})\"\n",
    "        return y\n",
    "\n",
    "runs = (\n",
    "    pd.DataFrame(\n",
    "        [\n",
    "            {\n",
    "                \"run\": Run(p),\n",
    "                \"multirun_start\": datetime.strptime(\n",
    "                    f\"{p.parents[1].stem}/{p.parents[0].stem}\",\n",
    "                    r\"%Y-%m-%d/%H-%M-%S\",\n",
    "                ),\n",
    "                \"index\": int(p.stem),\n",
    "            }\n",
    "            for p in (Path(\"../experiment_results/cifar10_densenet/\").glob(\"*/*/[012]\"))\n",
    "        ]\n",
    "    )\n",
    ")"
   ]
  },
  {
   "cell_type": "code",
   "execution_count": null,
   "metadata": {},
   "outputs": [],
   "source": [
    "latest_runs = (\n",
    "    runs.assign(\n",
    "        label=lambda x: x.run.map(lambda y: y.inference_label),\n",
    "        lr=lambda x: x.run.map(\n",
    "            lambda y: y.cfg.inference.sampler.lr\n",
    "            if \"sampler\" in y.cfg.inference\n",
    "            else y.cfg.inference.lr\n",
    "        ),\n",
    "    )\n",
    "    .apply(add_dropout_amount, axis=1)\n",
    "    .set_index([\"label\", \"multirun_start\", \"index\"])\n",
    "    .sort_index()\n",
    "    .reset_index(level=[\"label\", \"index\"])\n",
    "    .drop_duplicates([\"label\", \"index\"], keep=\"last\")\n",
    "    .set_index([\"index\"], append=True)\n",
    "    .assign(val_err=lambda x: x.run.map(lambda y: y.get_scalar(\"err/val\").iloc[-1]))\n",
    ")\n",
    "latest_runs"
   ]
  },
  {
   "cell_type": "code",
   "execution_count": null,
   "metadata": {},
   "outputs": [],
   "source": [
    "best_runs = latest_runs.loc[lambda x: x.groupby(\"label\").val_err.idxmin()]\n",
    "best_runs.assign(\n",
    "    test_err=lambda x: x.run.map(lambda r: r.get_scalar(\"err/test\").item())\n",
    ")"
   ]
  },
  {
   "cell_type": "code",
   "execution_count": null,
   "metadata": {},
   "outputs": [],
   "source": [
    "all_runs = best_runs.run.tolist()\n",
    "all_labels =  best_runs.label.tolist()\n",
    "\n",
    "mcmc_runs = best_runs.loc[lambda x: x.label.str.contains(\"SGHMC\")].run.tolist()\n",
    "mcmc_labels =  best_runs.loc[lambda x: x.label.str.contains(\"SGHMC\")].label.tolist()\n"
   ]
  },
  {
   "cell_type": "code",
   "execution_count": null,
   "metadata": {},
   "outputs": [],
   "source": [
    "\n",
    "(\n",
    "    plot_val_err(all_runs, all_labels)\n",
    "    .set(ylim=(None, 0.32))\n",
    "    .savefig(\"../thesis/Figures/cifar-densenet-final-runs-val.pdf\")\n",
    ")\n"
   ]
  },
  {
   "cell_type": "code",
   "execution_count": null,
   "metadata": {},
   "outputs": [],
   "source": [
    "test_errs = pd.DataFrame({\n",
    "    \"Method\": all_labels,\n",
    "    \"err/test\": [x.get_scalar(\"err/test\").item() for x in all_runs]\n",
    "}).reset_index(drop=True)"
   ]
  },
  {
   "cell_type": "code",
   "execution_count": null,
   "metadata": {},
   "outputs": [],
   "source": [
    "import hydra\n",
    "\n",
    "dm = hydra.utils.instantiate(best_runs.run[0].cfg.data)\n",
    "dm.setup()\n",
    "n_test = len(dm.test_data)\n",
    "test_errs"
   ]
  },
  {
   "cell_type": "code",
   "execution_count": null,
   "metadata": {},
   "outputs": [],
   "source": [
    "import numpy as np\n",
    "from math import sqrt\n",
    "\n",
    "\n",
    "def get_err_incl_ci(error: float) -> str:\n",
    "    pm = sqrt(error * (1 - error) / n_test) * 1.96\n",
    "    return f\"${100*error:.2f} \\\\pm {100*pm:.2f}~\\\\%$\"\n",
    "\n",
    "\n",
    "(\n",
    "    test_errs\n",
    "    .apply({\"Method\": lambda x: x, \"err/test\": get_err_incl_ci})\n",
    "    .rename(columns={\"err/test\": \"Test error incl. 95\\\\% CI\"})\n",
    "    .to_latex(\"../thesis/Tables/cifar-densenet-test-err.tex\", escape=False, index=False)\n",
    ")"
   ]
  },
  {
   "cell_type": "code",
   "execution_count": null,
   "metadata": {},
   "outputs": [],
   "source": [
    "from textwrap import wrap\n"
   ]
  },
  {
   "cell_type": "markdown",
   "metadata": {},
   "source": [
    "# Calibration\n"
   ]
  },
  {
   "cell_type": "code",
   "execution_count": null,
   "metadata": {},
   "outputs": [],
   "source": [
    "plot_calibration(all_runs, all_labels, legend_cols=4)\n",
    "plt.savefig(\"../thesis/Figures/cifar10-densenet-calibration.pdf\")"
   ]
  },
  {
   "cell_type": "code",
   "execution_count": null,
   "metadata": {},
   "outputs": [],
   "source": [
    "(\n",
    "    pd.Series({label: r.get_scalar(\"ece/test\").item() for label, r in zip(best_runs.label, best_runs.run)})\n",
    "    .rename(\"ECE\")\n",
    "    .pipe(pd.DataFrame)\n",
    "    .to_latex(\"../thesis/Tables/cifar-densenet-ece.tex\", formatters={\"ECE\": lambda x: f\"{x:.2%}\"})\n",
    ")\n"
   ]
  },
  {
   "cell_type": "markdown",
   "metadata": {},
   "source": [
    "## Checking SGHMC assumptions"
   ]
  },
  {
   "cell_type": "code",
   "execution_count": null,
   "metadata": {},
   "outputs": [],
   "source": [
    "plot_temperatures(mcmc_runs, mcmc_labels)\n",
    "plt.subplots_adjust(bottom=0.13)\n",
    "plt.savefig(\"../thesis/Figures/cifar-densenet-temperatures.pdf\")"
   ]
  },
  {
   "cell_type": "code",
   "execution_count": null,
   "metadata": {},
   "outputs": [],
   "source": [
    "from scipy.stats import chi2\n",
    "from math import sqrt\n",
    "\n",
    "def binom_95_ci(p: float, n: int):  \n",
    "    pm = sqrt(p * (1 - p) / n) * 1.96\n",
    "    return f\"${100*p:.2f} \\\\pm {100*pm:.2f}~\\\\%$\"\n",
    "\n",
    "def compute_99_chi2(x: pd.Series):\n",
    "    df = x.index.get_level_values(\"n_params\")[0]\n",
    "    p = (x < chi2(df).ppf(0.99)).mean()\n",
    "    n = len(x)\n",
    "    \n",
    "    return  binom_95_ci(p, n)\n",
    "\n",
    "(\n",
    "    temperatures.set_index(\"n_params\", append=True)\n",
    "    .groupby(level=[\"Sampler\"])\n",
    "    .agg(\n",
    "        frac_in_99=pd.NamedAgg(\"temperature_sum\", aggfunc=compute_99_chi2)\n",
    "        )\n",
    "    .rename(columns={\"frac_in_99\": \"$\\\\hat{T}_{0.99}$\"})\n",
    "    .reset_index()\n",
    "    .to_latex(\"../thesis/Tables/cifar-small-temperatures.tex\", escape=False, index=False)\n",
    ")\n"
   ]
  }
 ],
 "metadata": {
  "interpreter": {
   "hash": "3ce311d752f7559aeab697e045d55b95fb71177de97c9fd9eefeb88845310a84"
  },
  "kernelspec": {
   "display_name": "Python 3.9.7 64-bit ('.venv': venv)",
   "name": "python3"
  },
  "language_info": {
   "codemirror_mode": {
    "name": "ipython",
    "version": 3
   },
   "file_extension": ".py",
   "mimetype": "text/x-python",
   "name": "python",
   "nbconvert_exporter": "python",
   "pygments_lexer": "ipython3",
   "version": "3.9.7"
  }
 },
 "nbformat": 4,
 "nbformat_minor": 2
}
