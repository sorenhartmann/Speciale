{
 "cells": [
  {
   "cell_type": "code",
   "execution_count": null,
   "metadata": {},
   "outputs": [],
   "source": [
    "from pathlib import Path\n",
    "import pandas as pd\n",
    "import seaborn as sns\n",
    "from optuna import Study\n",
    "from src.utils import Run, Sweep, set_directory, INFERENCE_LABELS\n",
    "import matplotlib.pyplot as plt\n",
    "import torch\n",
    "from src.models.base import ErrorRate\n",
    "from src.analysis.inference import *"
   ]
  },
  {
   "cell_type": "markdown",
   "metadata": {},
   "source": [
    "# Sweeps"
   ]
  },
  {
   "cell_type": "code",
   "execution_count": null,
   "metadata": {},
   "outputs": [],
   "source": [
    "sweeps = {}\n",
    "with set_directory(\"..\"):\n",
    "    optuna_storages = list(Path(\"optuna_storages/\").glob(\"cifar-small*\"))\n",
    "    for storage in optuna_storages:\n",
    "        sweeps[storage.stem] = Sweep(\n",
    "            Study(storage.stem, storage=f\"sqlite:///{storage}\")\n",
    "        )\n"
   ]
  },
  {
   "cell_type": "code",
   "execution_count": null,
   "metadata": {},
   "outputs": [],
   "source": [
    "combined_loss_data = pd.concat(\n",
    "    sweep.loss().assign(study=name).set_index(\"study\", append=True)\n",
    "    for name, sweep in sweeps.items()\n",
    ").reorder_levels([\"study\", \"trial\", \"step\"])\n",
    "\n",
    "combined_summaries_data = pd.concat(\n",
    "    sweep.summary().assign(study=name, run=sweep.runs()).set_index(\"study\", append=True)\n",
    "    for name, sweep in sweeps.items()\n",
    ").reorder_levels([\"study\", \"trial\"])"
   ]
  },
  {
   "cell_type": "code",
   "execution_count": null,
   "metadata": {},
   "outputs": [],
   "source": [
    "best_runs = (\n",
    "    combined_summaries_data[[\"err/val\", \"run\"]]\n",
    "    .loc[lambda x: x[\"err/val\"].groupby(\"study\").idxmin()]\n",
    ")\n",
    "best_runs"
   ]
  },
  {
   "cell_type": "code",
   "execution_count": null,
   "metadata": {},
   "outputs": [],
   "source": [
    "def get_label(x: Run):\n",
    "    return x.inference_label\n",
    "\n",
    "inference_labels = (\n",
    "    best_runs[\"run\"]\n",
    "    .apply(get_label)\n",
    "    .reset_index(\"trial\", drop=True)\n",
    "    .rename(\"inference\")\n",
    ")"
   ]
  },
  {
   "cell_type": "code",
   "execution_count": null,
   "metadata": {},
   "outputs": [],
   "source": [
    "(\n",
    "    combined_loss_data.unstack(level=\"step\")\n",
    "    .loc[best_runs.index.values]\n",
    "    .stack(level=\"step\")\n",
    "    .reset_index()\n",
    "    .join(inference_labels, on=\"study\")\n",
    "    .pipe(\n",
    "        (sns.relplot, \"data\"),\n",
    "        x=\"step\",\n",
    "        y=\"err/val\",\n",
    "        hue=\"inference\",\n",
    "        kind=\"line\",\n",
    "        aspect=1.6,\n",
    "        hue_order=INFERENCE_LABELS.values()\n",
    "    )\n",
    "    .set(xlim=(0,200))\n",
    "    .savefig(\"../thesis/Figures/cifar-small-best-runs-val-curves.pdf\")\n",
    ")\n"
   ]
  },
  {
   "cell_type": "code",
   "execution_count": null,
   "metadata": {},
   "outputs": [],
   "source": [
    "import math\n",
    "\n",
    "def rename_cols(x):\n",
    "\n",
    "    if x == \"err/val\":\n",
    "        return \"val. error\"\n",
    "    else:\n",
    "\n",
    "        return f\"\\\\texttt{{{x.split('.')[-1]}}}\".replace(\"_\", \"\\_\")\n",
    "\n",
    "\n",
    "def format_sctf(float_number):\n",
    "    exponent = math.floor(math.log10(float_number))\n",
    "    mantissa = float_number / 10 ** exponent\n",
    "    mantissa_format = str(mantissa)[0:4]\n",
    "    return \"${0}\\\\times10^{{{1}}}$\".format(mantissa_format, str(int(exponent)))\n",
    "\n",
    "\n",
    "def to_latex(data: pd.DataFrame):\n",
    "\n",
    "    n_cols = len(data.columns)\n",
    "    return data.to_latex(\n",
    "        f\"../thesis/Tables/{key}-hparams.tex\",\n",
    "        escape=False,\n",
    "        formatters={r\"\\texttt{lr}\": format_sctf},\n",
    "        column_format=\"l\" + n_cols * r\"p{2.3cm}\",\n",
    "    )\n",
    "\n",
    "\n",
    "for key, sweep in sweeps.items():\n",
    "    (\n",
    "        sweep\n",
    "        .summary()\n",
    "        .drop(columns=\"datetime_start\")\n",
    "        .head(10)\n",
    "        .rename(columns=rename_cols)\n",
    "        .pipe(to_latex)\n",
    "    )\n"
   ]
  },
  {
   "cell_type": "code",
   "execution_count": null,
   "metadata": {},
   "outputs": [],
   "source": [
    "for key, value in INFERENCE_LABELS.items():\n",
    "    print(\n",
    "        f\"\"\"\n",
    "\\\\begin{{table}}[H]\n",
    "    \\\\centering\n",
    "    \\\\resizebox{{\n",
    "        \\\\ifdim\\\\width>\\\\columnwidth\n",
    "        \\\\columnwidth\n",
    "      \\\\else\n",
    "        \\\\width\n",
    "      \\\\fi\n",
    "    }}{{!}}{{\\\\small\n",
    "    \\\\input{{Tables/cifar-small-{key}-hparams}}\n",
    "    }}\n",
    "    \\\\caption{{Top 10 hyperparameters for {value} on CIFAR10 dataset according to optuna sweep.}}\n",
    "    \\\\label{{tab:cifar-small-{key}-hparams}}\n",
    "\\end{{table}}\"\"\"\n",
    "    )\n"
   ]
  },
  {
   "cell_type": "markdown",
   "metadata": {},
   "source": [
    "# Test errors\n"
   ]
  },
  {
   "cell_type": "code",
   "execution_count": null,
   "metadata": {},
   "outputs": [],
   "source": [
    "mcmc_dir = Path(\"../experiment_results/cifar10_small/2021-12-26/19-13-33\")\n",
    "mcmc_runs = list(map(Run, mcmc_dir.glob(\"[01]/\")))\n",
    "\n",
    "other_dir = Path(\"../experiment_results/cifar10_small/2021-12-26/19-13-36\")\n",
    "other_runs = list(map(Run, other_dir.glob(\"[012]/\")))\n",
    "\n",
    "all_runs = other_runs + mcmc_runs"
   ]
  },
  {
   "cell_type": "code",
   "execution_count": null,
   "metadata": {},
   "outputs": [],
   "source": [
    "(\n",
    "    plot_val_err(all_runs)\n",
    "    .set(ylim=(None, 0.32))\n",
    "    .savefig(\"../thesis/Figures/cifar-small-final-runs-val.pdf\")\n",
    ")\n",
    "(\n",
    "    get_test_err_table(all_runs).to_latex(\n",
    "        \"../thesis/Tables/cifar-small-test-err.tex\",\n",
    "        escape=False,\n",
    "        index=False,\n",
    "        column_format=\"lc\",\n",
    "    )\n",
    ")"
   ]
  },
  {
   "cell_type": "markdown",
   "metadata": {},
   "source": [
    "## Downsampling MCMC samples\n",
    "\n"
   ]
  },
  {
   "cell_type": "code",
   "execution_count": null,
   "metadata": {},
   "outputs": [],
   "source": [
    "plot_mcmc_downsampling(all_runs)\n",
    "plt.savefig(\"../thesis/Figures/cifar-small-downsampling.pdf\")"
   ]
  },
  {
   "cell_type": "code",
   "execution_count": null,
   "metadata": {},
   "outputs": [],
   "source": [
    "test_err_10_ensemble = {}"
   ]
  },
  {
   "cell_type": "code",
   "execution_count": null,
   "metadata": {},
   "outputs": [],
   "source": [
    "from tqdm import tqdm\n",
    "\n",
    "vi_run = next(r for r in other_runs if \"VI\" in r.inference_label)\n",
    "best_step = vi_run.get_scalar(\"err/val\").idxmin()\n",
    "best_ckpt = next(vi_run.dir.glob(f\"**/*{best_step}.ckpt\"))\n",
    "inference = hydra.utils.instantiate(vi_run.cfg.inference, n_particles=10)\n",
    "inference.load_state_dict(torch.load(best_ckpt, map_location=\"cpu\")[\"state_dict\"])\n",
    "\n",
    "test_err_10_ensemble[\"VI\"] = ErrorRate()\n",
    "for x, y in tqdm(dm.test_dataloader()):\n",
    "    output = torch.stack(inference.forward_particles(x))\n",
    "    preds = inference.model.predict_gvn_output(output).mean(0)\n",
    "    test_err_10_ensemble[\"VI\"].update(preds, y)"
   ]
  },
  {
   "cell_type": "code",
   "execution_count": null,
   "metadata": {},
   "outputs": [],
   "source": [
    "sgd_runs = (r for r in other_runs if \"SGD\" in r.inference_label)\n",
    "for sgd_run in sgd_runs:\n",
    "    inference = hydra.utils.instantiate(sgd_run.cfg.inference)\n",
    "    inference.eval()\n",
    "    test_err_10_ensemble[sgd_run.inference_label] = ErrorRate()\n",
    "    for x, y in tqdm(dm.test_dataloader()):\n",
    "        outputs = []\n",
    "        for ckpt in sgd_run.dir.glob(f\"**/epoch=*.ckpt\"):\n",
    "            inference.load_state_dict(torch.load(ckpt, map_location=\"cpu\")[\"state_dict\"])\n",
    "            outputs.append(inference.model(x).softmax(-1))\n",
    "        output = torch.stack(outputs).mean(0)\n",
    "        test_err_10_ensemble[sgd_run.inference_label].update(output, y)\n",
    "\n"
   ]
  },
  {
   "cell_type": "code",
   "execution_count": null,
   "metadata": {},
   "outputs": [],
   "source": [
    "test_err_10_ensemble['SGD (dropout)'].compute()"
   ]
  },
  {
   "cell_type": "markdown",
   "metadata": {},
   "source": [
    "# Calibration\n"
   ]
  },
  {
   "cell_type": "code",
   "execution_count": null,
   "metadata": {},
   "outputs": [],
   "source": [
    "plot_calibration(all_runs)\n",
    "plt.savefig(\"../thesis/Figures/cifar-small-calibration.pdf\")\n",
    "\n",
    "get_ece_table(all_runs).to_latex(\n",
    "    \"../thesis/Tables/cifar-small-ece.tex\", index=False, escape=False, column_format=\"lc\"\n",
    ")"
   ]
  },
  {
   "cell_type": "markdown",
   "metadata": {},
   "source": [
    "## Checking SGHMC assumptions"
   ]
  },
  {
   "cell_type": "code",
   "execution_count": null,
   "metadata": {},
   "outputs": [],
   "source": [
    "plot_temperatures(mcmc_runs)\n",
    "plt.subplots_adjust(bottom=0.13)\n",
    "plt.savefig(\"../thesis/Figures/cifar-small-temperatures.pdf\")\n",
    "get_temp_ci_table(mcmc_runs).to_latex(\n",
    "    \"../thesis/Tables/cifar-small-temperatures.tex\",\n",
    "    escape=False,\n",
    "    index=False,\n",
    "    column_format=\"lc\",\n",
    ")"
   ]
  }
 ],
 "metadata": {
  "interpreter": {
   "hash": "3ce311d752f7559aeab697e045d55b95fb71177de97c9fd9eefeb88845310a84"
  },
  "kernelspec": {
   "display_name": "Python 3.9.7 64-bit ('.venv': venv)",
   "name": "python3"
  },
  "language_info": {
   "codemirror_mode": {
    "name": "ipython",
    "version": 3
   },
   "file_extension": ".py",
   "mimetype": "text/x-python",
   "name": "python",
   "nbconvert_exporter": "python",
   "pygments_lexer": "ipython3",
   "version": "3.9.7"
  }
 },
 "nbformat": 4,
 "nbformat_minor": 2
}
